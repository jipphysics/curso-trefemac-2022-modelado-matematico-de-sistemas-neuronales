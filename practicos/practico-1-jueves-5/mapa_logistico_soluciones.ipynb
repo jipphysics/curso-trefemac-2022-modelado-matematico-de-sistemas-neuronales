{
 "cells": [
  {
   "cell_type": "markdown",
   "metadata": {
    "id": "dbHHcQpGZX_J"
   },
   "source": [
    "# Practico 1 : mapa logístico\n",
    "\n",
    "La ecuación que determina la dinámica del mapa logístico es\n",
    "\n",
    "$$\n",
    "x_{t+1} = f_r(x_t) = r x_t (1-x_t)\n",
    "$$\n",
    "\n",
    "donde $x_t\\in [0,1]$ para todo tiempo discreto $t\\in\\{0,1,...\\}$, $x_0$ es la condicion inicial, y $r\\in [0,4]$ es un parámetro.\n",
    "\n",
    "**1)** Calcule los puntos fijos\n",
    "\n",
    "**2)** Determine la estabilidad de los puntos fijos.\n",
    "\n",
    "**3)** Calcule y grafique $k=100$ pasos de las trayectorias $x_t$ para\n",
    "\n",
    "&nbsp; &nbsp; **a)** $x_0=0.8$ y $r=1$.\n",
    "    \n",
    "&nbsp; &nbsp; **b)** $x_0=0.1$ y $r=3$.\n",
    "    \n",
    "&nbsp; &nbsp; **c)** $x_0=0.75$ y $r=3.8$.\n",
    "    \n",
    "**4)** Grafique los primeros $k=100$ del diagrama de Verhulst o *Cobweb* de las trayectorias: \n",
    "\n",
    "&nbsp; &nbsp; **a)** $x_0=0.8$ y $r=1.1$.\n",
    "    \n",
    "&nbsp; &nbsp; **b)** $x_0=0.1$ y $r=3.5$.\n",
    "    \n",
    "&nbsp; &nbsp; **c)** $x_0=0.75$ y $r=3.8$.\n",
    "\n",
    "Para ello:\n",
    "\n",
    "&nbsp; &nbsp; **i)** Grafique la recta $y=x$ en azul y $y=f(x)$ en cyan para $x\\in [0,1]$ e $y\\in [0,1]$.\n",
    "    \n",
    "&nbsp; &nbsp; **ii)** Inicie en el punto $(x_0,0)$ para $t=0$.\n",
    "    \n",
    "&nbsp; &nbsp; **iii)** Trace una linea vertical entre el punto anterior $(x_t,y_t)$ y el punto y $(x_t,y_{t+1})$ con $y_{t+1}=f(x_t)$.\n",
    "    \n",
    "&nbsp; &nbsp; **iv)** Trace una línea horizontal entre el punto $(x_t,y_{t+1})$ y el punto $(x_{t+1},y_{t+1})$ con $x_{t+1}=y_{t+1}$.\n",
    "    \n",
    "&nbsp; &nbsp; **v)** Grafique un punto en $(x_t,f(x_t))$.\n",
    "    \n",
    "&nbsp; &nbsp; **vi)** Mientras $t<k$, retorne al punto **iii)** remplazando $t$ por $t+1$. En caso contrario, termine.\n",
    "\n",
    "**5)** Grafique el diagrama de bifurcaciones del mapa logístico. Para ello:\n",
    "\n",
    "&nbsp; &nbsp; **i)** Muestree 300 valores equidistantes de $r$ en $[3,4]$.\n",
    "\n",
    "&nbsp; &nbsp; **ii)** Para cada valor de $r$, muestree 300 valores de $x_0$ elegidos al azar en $(0,1)$.\n",
    "\n",
    "&nbsp; &nbsp; **iii)** Para cada valor de $r$ y $x_0$, compute $t=200$ iteraciones del mapa logistico hasta obtener una aproximación $x_t(x_0)$ de algún punto del atractor del mapa, y guarde el punto $(r,x_t(x_0))$ en una lista.\n",
    "\n",
    "&nbsp; &nbsp; **iv)** Grafique los $300^2$ puntos guardados en el plano $x$ vs $r$.\n",
    "\n",
    "**6)** Calcule y grafique el exponente de Lyapunov vs $r$ del mapa logístico.\n",
    "\n",
    "**7)** Adaptando el análisis, repita lo anterior para el **mapa de la carpa**, el cual viene dado por:\n",
    "\n",
    "$$x_{t+1}\n",
    "=\n",
    "f_r(x_t)\n",
    "=\n",
    "\\bigg\\{\n",
    "\\begin{array}{ll}\n",
    "rx_t & 0\\leq x_t\\leq 1/2, \\\\\n",
    "r(1-x_t) & 1/2\\leq x_t\\leq 1\n",
    "\\end{array}\n",
    "$$\n",
    "\n",
    "para $0\\leq r\\leq 2$ y $0\\leq x_t\\leq 1$ para todo $t$.\n",
    "\n",
    "**8)** Adaptando el análisis, repita lo anterior para el **mapa del seno**, el cual viene dado por:\n",
    "\n",
    "$$x_{t+1}\n",
    "=\n",
    "f_r(x_t)\n",
    "=\n",
    "r\\sin(\\pi x_n)\n",
    "$$\n",
    "\n",
    "para $0\\leq r\\leq 1$ y $0\\leq x_t\\leq 1$ para todo $t$."
   ]
  },
  {
   "cell_type": "code",
   "execution_count": null,
   "metadata": {
    "id": "E4BmG7O2bhmX"
   },
   "outputs": [],
   "source": [
    "import numpy as np"
   ]
  },
  {
   "cell_type": "code",
   "execution_count": null,
   "metadata": {
    "colab": {
     "base_uri": "https://localhost:8080/"
    },
    "id": "rDoN-Nd_Oz0D",
    "outputId": "bfd16534-9aff-428e-ccfc-ce2a8939fe32"
   },
   "outputs": [],
   "source": [
    "LATEX = True\n",
    "import matplotlib.pyplot as plt\n",
    "if LATEX:\n",
    "    import matplotlib\n",
    "    #from matplotlib import rc\n",
    "    if 'google.colab' in str(get_ipython()):\n",
    "        matplotlib.rc('text', usetex=True)\n",
    "        matplotlib.rcParams['text.latex.preamble'] = [r'\\usepackage{amsmath}']\n",
    "        print('Running on CoLab')\n",
    "        !apt install texlive-fonts-recommended texlive-fonts-extra cm-super dvipng    \n",
    "    else:\n",
    "        matplotlib.rc('text', usetex=False)\n",
    "        matplotlib.rcParams['text.latex.preamble'] = [r'\\usepackage{amsmath}']    \n",
    "        print('Not running on CoLab')  \n",
    "# %matplotlib inline"
   ]
  },
  {
   "cell_type": "code",
   "execution_count": null,
   "metadata": {
    "id": "RKYK1dSnlxVW"
   },
   "outputs": [],
   "source": [
    "# Incrementar la resolución y las dimensiones de los gráficos\n",
    "plt.rcParams[\"figure.figsize\"] = (7,5) # Dimensiones de las figuras\n",
    "plt.rcParams['figure.dpi'] = 100 # Resolución"
   ]
  },
  {
   "cell_type": "markdown",
   "metadata": {
    "id": "2Ffhj5LXZrwe"
   },
   "source": [
    "## Rta. 1)\n",
    "\n",
    "Teoría general. $x^*$ es un punto fijo de un mapa\n",
    "\n",
    "$$x_{t+1} = f(x_t)$$\n",
    "\n",
    "sii $f(x^*)=0$. \n",
    "\n",
    "En el caso particular del mapa logìstico, los puntos fijos $x^*$ vienen determinados por la ecuación\n",
    "\n",
    "$$x^*=rx^*(1-x^*)$$\n",
    "\n",
    "**i)** Vemos que $x^*=0$ es siempre solución de dicha ecuación. \n",
    "\n",
    "**ii)** Por otro lado, $x^*=1-r^{-1}>0$ también es solución."
   ]
  },
  {
   "cell_type": "markdown",
   "metadata": {
    "id": "CXhCskdgZmr-"
   },
   "source": [
    "## Rta. 2)\n",
    "\n",
    "Teoría general. Para determinar la estabilidad de $x^*$, conviene considerar $x_t=x^*+\\eta_t$ para $|\\eta_t|\\ll 1$ y calcular\n",
    "\n",
    "$$\n",
    "x_{t+1}=x^*+\\eta_{t+1}=f(x^*+\\eta_t) = f(x^*) + f'(x^*)\\eta_t + ... = f'(x^*)\\eta_t + ...\n",
    "$$\n",
    "\n",
    "Por ende\n",
    "\n",
    "$$\n",
    "|\\eta_{t+1}|<|f'(x^*)||\\eta_t|\n",
    "$$\n",
    "\n",
    "\n",
    "Si $|f'(x^*)|<1$, luego $|\\eta_{t+1}|<|\\eta_t|$ y, si $|f'(x^*)|>1$, luego $|\\eta_{t+1}|>|\\eta_t|$. Es decir, el signo de $|f'(x^*)|-1$ determina la estabilidad de $x^*$. Si $f'(x^*)=0$, luego hay que considerar derivadas de $f$ de ordenes superiores.\n",
    "\n",
    "En el caso del mapa logístico, $f'(x)=r(1-2x)$. Entonces:\n",
    "\n",
    "**i)** Para $x^*=0$, $f'(0)=r$. Entonces, el punto fijo $x^*=0$ es estable (o inestable) si $r<1$ (o $r>1$).\n",
    "\n",
    "**ii)** Por otro lado, para $x^*=1-r^{-1}$, \n",
    "\n",
    "$$\n",
    "f'(1-r^{-1})=r(1-2(1-r^{-1}))=r(1-2+2r^{-1})=r(-1+2r^{-1})=-r+2rr^{-1}=2-r\n",
    "$$\n",
    "\n",
    "Entonces, el punto fijo $x^*=1-r^{-1}$ es estable si $|2-r|<1$, i.e. si $r\\in(1,3)$. Por otro lado, es inestable si $|2-r|>1$, i.e. si $r\\in [0,1)\\cup (3,\\infty)$. \n",
    "\n",
    "El caso $r=2$ es linealmente marginal, ya que $f'(1-1/2)=f'(1/2)=0$. Se tiene $f''(x)=-2r$, luego $f''(1/2)=-1$. Entonces, $|\\eta_{t+1}|=|f''(1/2)/2!||\\eta_t^2|+...=|\\eta_t^2|/2+...$, por lo que resulta estable."
   ]
  },
  {
   "cell_type": "markdown",
   "metadata": {
    "id": "1XD8_lCvaqWf"
   },
   "source": [
    "## Rta. 3)"
   ]
  },
  {
   "cell_type": "code",
   "execution_count": null,
   "metadata": {},
   "outputs": [],
   "source": [
    "def f(x,r):\n",
    "    return r*x*(1-x)"
   ]
  },
  {
   "cell_type": "code",
   "execution_count": null,
   "metadata": {
    "id": "4Wo03dFmkjX_"
   },
   "outputs": [],
   "source": [
    "def plot_trajectory(f,x0,k):\n",
    "  x = np.zeros(k+1)\n",
    "  if not isinstance(x0,list):\n",
    "    x0 = [x0]\n",
    "  for _x0 in x0:\n",
    "    x[0] = _x0\n",
    "    for t in range(k):\n",
    "        x[t+1] = f(x[t])  \n",
    "    plt.xlabel(\"$t$\")\n",
    "    plt.ylabel(\"$x_t$\")\n",
    "    t = np.array(range(k+1))\n",
    "    plt.plot(t,x,label='x',linestyle='-')\n",
    "    plt.scatter(t,x,label='x',marker='o',s=5)\n",
    "    plt.title(\"$r=\"+str(r)+\"$\")\n",
    "  plt.show()"
   ]
  },
  {
   "cell_type": "code",
   "execution_count": null,
   "metadata": {
    "colab": {
     "base_uri": "https://localhost:8080/",
     "height": 473
    },
    "id": "ry2Xt4qLkzSX",
    "outputId": "1546363f-947a-43b9-aa56-6ab83300adce"
   },
   "outputs": [],
   "source": [
    "# a)\n",
    "x0 = 0.8\n",
    "r = 1.0\n",
    "k = 100\n",
    "plot_trajectory(lambda x:f(x,r),x0,k)"
   ]
  },
  {
   "cell_type": "code",
   "execution_count": null,
   "metadata": {
    "colab": {
     "base_uri": "https://localhost:8080/",
     "height": 473
    },
    "id": "G0DIRn4OlHXx",
    "outputId": "d9e2fe1f-9623-4575-f1ec-6f9bcead8194"
   },
   "outputs": [],
   "source": [
    "# b)\n",
    "x0 = 0.1\n",
    "r = 3.5\n",
    "k = 100\n",
    "plot_trajectory(lambda x:f(x,r),x0,k)"
   ]
  },
  {
   "cell_type": "code",
   "execution_count": null,
   "metadata": {
    "colab": {
     "base_uri": "https://localhost:8080/",
     "height": 473
    },
    "id": "ZB1qYMu8lQH3",
    "outputId": "25838675-b93b-464f-f3c4-26d78f9dcd0a"
   },
   "outputs": [],
   "source": [
    "# c)\n",
    "x0 = 0.75\n",
    "r = 3.8\n",
    "k = 100\n",
    "plot_trajectory(lambda x:f(x,r),x0,k)"
   ]
  },
  {
   "cell_type": "markdown",
   "metadata": {
    "id": "Qe0fcARnlirk"
   },
   "source": [
    "## Rta. 4)"
   ]
  },
  {
   "cell_type": "code",
   "execution_count": null,
   "metadata": {
    "id": "5WzT3KZ3j39T"
   },
   "outputs": [],
   "source": [
    "def plot_line(p0,p1,c='red',ls='-'):\n",
    "  x0,y0=p0\n",
    "  x1,y1=p1\n",
    "  plt.plot([x0,x1],[y0,y1],color=c,linestyle=ls) # horizontal"
   ]
  },
  {
   "cell_type": "code",
   "execution_count": null,
   "metadata": {
    "id": "Z651mkMvj_Rk"
   },
   "outputs": [],
   "source": [
    "def plot_cobweb(f,x0,k,title=\"\"):\n",
    "  # Graficamos los ejes y el titulo\n",
    "  plt.xlabel(\"$x_t$\")\n",
    "  plt.ylabel(\"$x_{t+1}$\")\n",
    "  plt.title(title)\n",
    "  # Graficamos la diagonal y la función\n",
    "  plot_line([0,0],[1,1],c='blue',ls='-')\n",
    "  x = np.linspace(0, 1,100)\n",
    "  y = [f(_x) for _x in x]\n",
    "  plt.plot(x,y,'cyan')\n",
    "  plt.xlim(0,1)\n",
    "  plt.ylim(0,1)\n",
    "  # Graficamos las curvas y los puntos del diagrama. Notación:\n",
    "  x=f(x0)\n",
    "  plot_line([x0,0],[x0,x],c='r') # vertical\n",
    "  for t in range(k): # t=0,1,2,...,k-1.\n",
    "    plot_line([x0,x],[x,x]) # horizontal\n",
    "    x0=x\n",
    "    x=f(x0)\n",
    "    plot_line([x0,x0],[x0,x],c='r') # vertical\n",
    "    plt.plot([x0],[x],'ok',ms=10,alpha=(t + 1)/k) # Ploteamos puntos en x_t,f(x_t)   \n",
    "  plt.show()   "
   ]
  },
  {
   "cell_type": "code",
   "execution_count": null,
   "metadata": {
    "colab": {
     "base_uri": "https://localhost:8080/",
     "height": 473
    },
    "id": "RT2o3JJwkMhk",
    "outputId": "6df35333-0cb7-4f20-95de-d69b08eb63e0"
   },
   "outputs": [],
   "source": [
    "# a)\n",
    "x0=0.8\n",
    "r=1.1\n",
    "k=100\n",
    "plot_cobweb(lambda x:f(x,r),x0,k,title=\"$r=\"+str(r)+\"$\")"
   ]
  },
  {
   "cell_type": "code",
   "execution_count": null,
   "metadata": {
    "colab": {
     "base_uri": "https://localhost:8080/",
     "height": 473
    },
    "id": "u9k5o5Lolb0F",
    "outputId": "7a398fd8-2c2e-47e1-d20d-a87e4c4a72a3"
   },
   "outputs": [],
   "source": [
    "# b)\n",
    "x0=0.1\n",
    "r=3.5\n",
    "k=100\n",
    "plot_cobweb(lambda x:f(x,r),x0,k,title=\"$r=\"+str(r)+\"$\")"
   ]
  },
  {
   "cell_type": "code",
   "execution_count": null,
   "metadata": {
    "colab": {
     "base_uri": "https://localhost:8080/",
     "height": 473
    },
    "id": "qsl5Hathlh5A",
    "outputId": "094fa94b-16c0-4a7a-fb42-b7ca546572aa"
   },
   "outputs": [],
   "source": [
    "# c)\n",
    "x0=0.75\n",
    "r=3.8\n",
    "k=100\n",
    "plot_cobweb(lambda x:f(x,r),x0,k,title=\"$r=\"+str(r)+\"$\")"
   ]
  },
  {
   "cell_type": "markdown",
   "metadata": {
    "id": "kc7fnjI22qEA"
   },
   "source": [
    "## Rta. 5)"
   ]
  },
  {
   "cell_type": "code",
   "execution_count": null,
   "metadata": {
    "id": "P_0itNGQlo2f"
   },
   "outputs": [],
   "source": [
    "def plot_orbit_diagram(f,rmin,rmax,num_samples=300,tmax=200,title=\"\"):\n",
    "  plt.rcParams[\"figure.figsize\"] = (7,5) # Dimensions of the figure\n",
    "  plt.rcParams['figure.dpi'] = 1000 # Resolucion\n",
    "  plt.title(\"Diagrama de bifurcaciones: \"+title)\n",
    "  plt.xlabel(\"$r$\")\n",
    "  plt.ylabel(\"$x$\")\n",
    "  vecr=[]\n",
    "  vecx=[]\n",
    "  for r in np.linspace(rmin,rmax,num_samples):    \n",
    "    for sample in range(300):\n",
    "        x = np.random.random()\n",
    "        for t in range(tmax):\n",
    "            x = f(x,r)\n",
    "        vecr.append(r)\n",
    "        vecx.append(x)           \n",
    "  plt.scatter(vecr,vecx,c='r',s=.1)\n",
    "  plt.show()"
   ]
  },
  {
   "cell_type": "code",
   "execution_count": null,
   "metadata": {
    "colab": {
     "base_uri": "https://localhost:8080/",
     "height": 818
    },
    "id": "N1QT4HKSn8BC",
    "outputId": "9d55750e-269d-4934-9cea-f0f04ace6b0e"
   },
   "outputs": [],
   "source": [
    "plot_orbit_diagram(f,3,4,title=\"logistic map\")"
   ]
  },
  {
   "cell_type": "markdown",
   "metadata": {
    "id": "MkrW0-g59sYw"
   },
   "source": [
    "## Rta. 6)"
   ]
  },
  {
   "cell_type": "code",
   "execution_count": null,
   "metadata": {
    "id": "aJ9UrUycrES5"
   },
   "outputs": [],
   "source": [
    "def lyapunov(f,df,termalization=300,samples=10000):\n",
    "  x = np.random.random()\n",
    "  for t in range(termalization):\n",
    "    x = f(x)\n",
    "  suma = 0.0\n",
    "  for t in range(samples):\n",
    "    x = f(x)\n",
    "    y = np.abs(df(x))\n",
    "    z = np.log(y+0.00000001)\n",
    "    suma += z\n",
    "  return suma/samples"
   ]
  },
  {
   "cell_type": "code",
   "execution_count": null,
   "metadata": {
    "id": "483uXktJrylC"
   },
   "outputs": [],
   "source": [
    "def plot_lyapunov(f,df,r_list,termalization=300,samples=10000,title=\"\"):\n",
    "  l_list = []\n",
    "  for r in r_list:\n",
    "    l = lyapunov(lambda x:f(x,r),lambda x:df(x,r),termalization=termalization,samples=samples)\n",
    "    l_list.append(l)\n",
    "  plt.plot(r_list,0*r_list,c='grey',linestyle=':')\n",
    "  plt.xlabel(\"$r$\")\n",
    "  plt.ylabel(\"$\\lambda$\")\n",
    "  plt.title(\"Lyapunov exponent: \"+title)\n",
    "  plt.plot(r_list,l_list,c='r')\n",
    "  plt.show()"
   ]
  },
  {
   "cell_type": "code",
   "execution_count": null,
   "metadata": {
    "id": "jJku8DvispEa"
   },
   "outputs": [],
   "source": [
    "def df(x,r):\n",
    "  return r*(1-2.0*x)"
   ]
  },
  {
   "cell_type": "code",
   "execution_count": null,
   "metadata": {
    "colab": {
     "base_uri": "https://localhost:8080/",
     "height": 805
    },
    "id": "oFvcOJn1sy20",
    "outputId": "2024f0ff-0f99-4412-844e-eff0bf357534"
   },
   "outputs": [],
   "source": [
    "r_list = np.linspace(3.0,4.0,300)\n",
    "plot_lyapunov(f,df,r_list,samples=100,title=\"logistic map\")"
   ]
  },
  {
   "cell_type": "markdown",
   "metadata": {
    "id": "zrYhTQjhAajp"
   },
   "source": [
    "## Rta 7)\n",
    "\n",
    "**1bis) Puntos fijos**\n",
    "\n",
    "Si $0\\leq x^* \\leq 1/2$, tenemos $x^*=rx^* \\equiv x^*=0$ para todo $r$.\n",
    "\n",
    "Si $1/2\\leq x^* \\leq 1$, tenemos $x^*=r(1-x^*) \\equiv x^*=r/(1+r)$. Luego, $1/2\\leq x^*=r(1+r)\\leq 1$ sólo si $r\\geq 1$.\n",
    "\n",
    "Si $r=1$, $x^*=x^*$ para todo $0\\leq x^*\\leq 1/2$.\n",
    "\n",
    "En resumen:\n",
    "\n",
    "**i)** Cuando $r<1$, $x^*=0$ es el único punto fijo.\n",
    "\n",
    "**ii)** Cuando $r=1$, $x^*$ es punto fijo si $0\\leq x^*\\leq 1/2$.\n",
    "\n",
    "**iii)** Cuando $r>1$, $x^*=0$ y $x^*=r/(1+r)$ son puntos fijos.\n",
    "\n",
    "**2bis) Estabilidad de los puntos fijos**\n",
    "\n",
    "Cuando $0<x<1/2$, $f'(x)=r$. Luego, $x^*=0$ es estable si $r<1$ e inestable si $r>1$.\n",
    "\n",
    "Cuando $1/2<x<1$, $f'(x)=-r$. Luego, $x^*=r/(r+1)$ es estable si $|-r|<1$, i.e. si $r<1$, e inestable si $|-r|>1$, i.e. si $r>1$.\n",
    "\n",
    "Cuando $r=1$, todos los puntos $x^*$ tales que $0\\leq x^* \\leq 1/2$ son estables."
   ]
  },
  {
   "cell_type": "markdown",
   "metadata": {
    "id": "YLUgP3yA2bMI"
   },
   "source": [
    "**3bis)**"
   ]
  },
  {
   "cell_type": "code",
   "execution_count": null,
   "metadata": {
    "id": "m-ufyF9pF4Jc"
   },
   "outputs": [],
   "source": [
    "def f(x,r):\n",
    "  if x>0.5:\n",
    "    return np.abs(r*(1.0-x))\n",
    "  return r*x"
   ]
  },
  {
   "cell_type": "code",
   "execution_count": null,
   "metadata": {
    "colab": {
     "base_uri": "https://localhost:8080/",
     "height": 782
    },
    "id": "akrVDS124bnO",
    "outputId": "886517f3-85cc-4e1d-d37b-728e0b249eed"
   },
   "outputs": [],
   "source": [
    "plt.xlabel(\"$r$\")\n",
    "plt.ylabel(\"$x^*=r/(1+r)$\")\n",
    "rvals = np.linspace(0.0,4.0,100)\n",
    "plt.plot(rvals,[r/(1+r) for r in rvals],c='b')\n",
    "rvals = [1]\n",
    "plt.scatter(rvals,[r/(1+r) for r in rvals],c='r')\n",
    "plt.show()"
   ]
  },
  {
   "cell_type": "code",
   "execution_count": null,
   "metadata": {
    "colab": {
     "base_uri": "https://localhost:8080/",
     "height": 818
    },
    "id": "VDmKxVqp2MTU",
    "outputId": "39c13c07-5f60-4772-eb44-b1c7c0737f29"
   },
   "outputs": [],
   "source": [
    "# a)\n",
    "r = 0.5\n",
    "k = 10\n",
    "plot_trajectory(lambda x:f(x,r),[0.3,0.5,0.7],k)"
   ]
  },
  {
   "cell_type": "code",
   "execution_count": null,
   "metadata": {
    "colab": {
     "base_uri": "https://localhost:8080/",
     "height": 810
    },
    "id": "IvODtcDErnMm",
    "outputId": "d05f006b-5da3-4cbe-a308-db7225d4dc95"
   },
   "outputs": [],
   "source": [
    "# b)\n",
    "r = 1.0\n",
    "k = 10\n",
    "plot_trajectory(lambda x:f(x,r),[0.3,0.5,0.7],k)"
   ]
  },
  {
   "cell_type": "code",
   "execution_count": null,
   "metadata": {
    "colab": {
     "base_uri": "https://localhost:8080/",
     "height": 810
    },
    "id": "K7i4xmrx2R4W",
    "outputId": "646588b6-af54-4229-a13d-f7f0b45b097d"
   },
   "outputs": [],
   "source": [
    "# c)\n",
    "r = 1.2\n",
    "k = 10\n",
    "plot_trajectory(lambda x:f(x,r),[0.3,0.5,0.7],k)"
   ]
  },
  {
   "cell_type": "code",
   "execution_count": null,
   "metadata": {
    "colab": {
     "base_uri": "https://localhost:8080/",
     "height": 818
    },
    "id": "ALA5G7oC9orw",
    "outputId": "02851741-4f9e-4b75-ce56-db68a5adccc6"
   },
   "outputs": [],
   "source": [
    "# d)\n",
    "r = 1.7\n",
    "k = 100\n",
    "plot_trajectory(lambda x:f(x,r),[0.3,0.5,0.7],k)"
   ]
  },
  {
   "cell_type": "markdown",
   "metadata": {
    "id": "qBh3DTnc27O5"
   },
   "source": [
    "**4bis)**"
   ]
  },
  {
   "cell_type": "code",
   "execution_count": null,
   "metadata": {
    "colab": {
     "base_uri": "https://localhost:8080/",
     "height": 807
    },
    "id": "43KPQFp-2VRl",
    "outputId": "60db8378-44c3-47c5-833f-9415b5e9850e"
   },
   "outputs": [],
   "source": [
    "# a)\n",
    "x0=0.8\n",
    "r=0.5\n",
    "k=25\n",
    "plot_cobweb(lambda x:f(x,r),x0,k,title=\"$r=\"+str(r)+\"$\")"
   ]
  },
  {
   "cell_type": "code",
   "execution_count": null,
   "metadata": {
    "colab": {
     "base_uri": "https://localhost:8080/",
     "height": 807
    },
    "id": "7z65yUk33C22",
    "outputId": "5068f15a-0859-48f2-efad-405865cff4a0"
   },
   "outputs": [],
   "source": [
    "# b)\n",
    "x0=0.8\n",
    "r=1.0\n",
    "k=25\n",
    "plot_cobweb(lambda x:f(x,r),x0,k,title=\"$r=\"+str(r)+\"$\")"
   ]
  },
  {
   "cell_type": "code",
   "execution_count": null,
   "metadata": {
    "colab": {
     "base_uri": "https://localhost:8080/",
     "height": 807
    },
    "id": "XFCCYq_Cp0A3",
    "outputId": "d304e47a-b7e9-4c63-d1d3-b0f559e20e6a"
   },
   "outputs": [],
   "source": [
    "# c)\n",
    "x0=0.8\n",
    "r=1.2\n",
    "k=25\n",
    "plot_cobweb(lambda x:f(x,r),x0,k,title=\"$r=\"+str(r)+\"$\")"
   ]
  },
  {
   "cell_type": "code",
   "execution_count": null,
   "metadata": {
    "colab": {
     "base_uri": "https://localhost:8080/",
     "height": 807
    },
    "id": "Pej6ddydjaIX",
    "outputId": "ba6828ba-bce6-4552-8445-b68cb135b640"
   },
   "outputs": [],
   "source": [
    "# d)\n",
    "x0=0.8\n",
    "r=1.7\n",
    "k=25\n",
    "plot_cobweb(lambda x:f(x,r),x0,k,title=\"$r=\"+str(r)+\"$\")"
   ]
  },
  {
   "cell_type": "markdown",
   "metadata": {
    "id": "xmfY_EE43HpQ"
   },
   "source": [
    "**5bis)**"
   ]
  },
  {
   "cell_type": "code",
   "execution_count": null,
   "metadata": {
    "colab": {
     "base_uri": "https://localhost:8080/",
     "height": 818
    },
    "id": "E3FPir6upcPG",
    "outputId": "413ab5ff-8692-47cf-fd74-6cf092d19c4e"
   },
   "outputs": [],
   "source": [
    "plot_orbit_diagram(f,0.8,2,title=\"tent map\")"
   ]
  },
  {
   "cell_type": "code",
   "execution_count": null,
   "metadata": {
    "id": "K46eASUnxbJI"
   },
   "outputs": [],
   "source": [
    "def df(x,r):\n",
    "  if x>0.5:\n",
    "    return -r\n",
    "  return r"
   ]
  },
  {
   "cell_type": "code",
   "execution_count": null,
   "metadata": {
    "colab": {
     "base_uri": "https://localhost:8080/",
     "height": 796
    },
    "id": "hI_mt4jDoeVU",
    "outputId": "ed7412d1-2ac6-4fe0-a5a1-fbdf83fe936a"
   },
   "outputs": [],
   "source": [
    "r_list = np.linspace(0.0,2.0,300)\n",
    "plot_lyapunov(f,df,r_list,samples=100,title=\"tent map\")"
   ]
  },
  {
   "cell_type": "markdown",
   "metadata": {
    "id": "YIAFASf6-PWq"
   },
   "source": [
    "## Rta 8)\n",
    "\n",
    "**1bis) y 2bis) Puntos fijos y estabilidad**\n",
    "\n",
    "No es posible determinar de forma algebraica las soluciones $x^*$ de\n",
    "\n",
    "$$\n",
    "x^*=r\\sin(\\pi x^*)\n",
    "$$\n",
    "\n",
    "para valores arbitrarios de $r$. Sin embargo, pueden hacerse algunas consideraciones útiles. Una raíz $x^*=0$ siempre existe ya que $\\sin(0)=0$. Para estudiar su estabilidad, analicemos \n",
    "\n",
    "$$\n",
    "f_r'(x)=r\\pi\\cos(\\pi x)\n",
    "$$\n",
    "\n",
    "Vemos que $f'_r(0)=r\\pi$. Si $r<\\pi^{-1}$, luego $x^*=0$ es estable. Si $r>\\pi^{-1}$, luego $x^*=0$ es inestable. El caso $r=\\pi^{-1}$ es linealmente marginal. La derivada segunda\n",
    "\n",
    "$$\n",
    "f_r''(x)=-r\\pi^2\\sin(\\pi x)\n",
    "$$\n",
    "\n",
    "nos indica que $f''(0)=0$, por lo que $x^*=0$ es también cuadráticamente marginal. La derivada tercera\n",
    "\n",
    "$$\n",
    "f_r'''(x)=-r\\pi^3\\cos(\\pi x)\n",
    "$$\n",
    "\n",
    "nos indica que $|f_r'''(0)/3!|=r\\pi^3/6=\\pi^2/6=1.645...$. Luego, en este caso, $|\\eta_{t+1}|=|\\pi^2/6||\\eta_t^3|+...$, por lo que $x^*=0$ resulta estable.\n",
    "\n",
    "Una segunda raíz $x^*\\geq 0$ aparece si $f_r'(0)=r\\pi\\geq 1$, i.e. si $r\\geq \\pi^{-1}=0.3183...$ . Esto se deduce de graficar y analizar las curvas de $x$, $f_r(x)$ y $f_r'(x)$ vs $x$ para distintos valores de $r$.\n",
    "Para $r>\\pi^{-1}$ la segunda raíz es $x^*>0$, ya que la curva de $f_r(x)$ vs $x$ va por encima de la de $x$ vs $x$ para $0<x\\ll 1$ puesto que $f_r(0)=0$ y $f_r'(0)>1$ en dicho caso. La estabilidad lineal de $x^*>0$ está determinada por si $|f_r'(x^*)|<1$ se satisface o no. Numéricamente, vemos que la estabilidad se pierde para $x^*\\approx 0.73$ (ver figura debajo)."
   ]
  },
  {
   "cell_type": "code",
   "execution_count": null,
   "metadata": {
    "id": "fm9erTAu_btP"
   },
   "outputs": [],
   "source": [
    "def f(x,r):\n",
    "  return r*np.sin(np.pi*x)\n",
    "\n",
    "def df(x,r):\n",
    "  return r*np.pi*np.cos(np.pi*x)"
   ]
  },
  {
   "cell_type": "code",
   "execution_count": null,
   "metadata": {
    "id": "tYZWYQDXKxlj"
   },
   "outputs": [],
   "source": [
    "def newton_raphson(f,df,x0,tolx=1e-10,tolf=1e-10,nmax=100,verbose=False):\n",
    "  for n in range(nmax):\n",
    "    f0 = f(x0)\n",
    "    x1 = x0-f0/df(x0)\n",
    "    e  = np.abs(x1-x0)\n",
    "    r  = e/np.abs(x1)\n",
    "    if verbose:\n",
    "      print(\"n=\"+str(n)+\" x=\"+str(x1)+\" err_rel=\"+str(r))\n",
    "    if r<tolx and np.abs(f0)<tolf:\n",
    "      return x1\n",
    "    x0=x1\n",
    "  return None"
   ]
  },
  {
   "cell_type": "code",
   "execution_count": null,
   "metadata": {
    "colab": {
     "base_uri": "https://localhost:8080/"
    },
    "id": "FC9ev5MNLvHE",
    "outputId": "6239d3da-0211-423c-9475-58bcf317b2d4"
   },
   "outputs": [],
   "source": [
    "r=0.8\n",
    "newton_raphson(lambda x:f(x,r)-x,lambda x:df(x,r)-1,0.6,verbose=True)"
   ]
  },
  {
   "cell_type": "code",
   "execution_count": null,
   "metadata": {
    "colab": {
     "base_uri": "https://localhost:8080/",
     "height": 903
    },
    "id": "NK-ZOZb6NNvM",
    "outputId": "59f662c8-675f-43e8-8556-7a96de57c381"
   },
   "outputs": [],
   "source": [
    "plt.xlabel(\"$r$\")\n",
    "#plt.ylabel(\"$x^*>0$\")\n",
    "plt.title(\"Raíz no nula del mapa del seno\")\n",
    "rvals = []\n",
    "xvals = []\n",
    "dfvals = []\n",
    "rc = 1.0\n",
    "dfc = 1.0\n",
    "xr = 1.0\n",
    "for r in np.flip(np.linspace(0.0,1.0,100)):\n",
    "  xr = newton_raphson(lambda x:f(x,r)-x,lambda x:df(x,r)-1,xr,verbose=False)\n",
    "  if xr is None:\n",
    "    break\n",
    "  rvals.append(r)\n",
    "  xvals.append(xr)\n",
    "  _df = df(xr,r)\n",
    "  dfvals.append(_df)\n",
    "  if _df < -1.0:\n",
    "    rc = r\n",
    "print(\"rc=\"+str(rc)+\" dfc=\"+str(dfc))\n",
    "#rvals.append(rvals[-1])  \n",
    "#xvals.append(0.)\n",
    "#dfvals.append(df(0.,0))\n",
    "rvals = np.flip(rvals)\n",
    "xvals = np.flip(xvals)\n",
    "dfvals = np.flip(dfvals)\n",
    "plt.plot(rvals,xvals,c='r',label=\"$x^*>0$\")\n",
    "plt.plot(rvals,dfvals,c='b',label=\"$f_r'(x^*)$\")\n",
    "plt.plot([0,1],[0,0],c='gray',ls=':')\n",
    "plt.plot([0,1],[1,1],c='gray',ls=':')\n",
    "plt.plot([0,1],[-1,-1],c='gray',ls=':')\n",
    "plt.xlim(0,1)\n",
    "#plt.ylim(-0.1,1)\n",
    "plt.legend()\n",
    "plt.show()"
   ]
  },
  {
   "cell_type": "code",
   "execution_count": null,
   "metadata": {
    "id": "EdI62V5d_RoX"
   },
   "outputs": [],
   "source": [
    "r=0.1\n",
    "plt.xlabel(\"$x$\")\n",
    "plt.title(\"Raíces del mapa del seno para $r=\"+str(r)+\"$\")\n",
    "xvals = np.linspace(0.0,1.0,100)\n",
    "plt.plot(xvals,xvals,c='b',label=\"$x$\")  \n",
    "plt.plot(xvals,[f(x,r) for x in xvals],c='r',label=\"$f_r(x)=r\\sin(\\pi x)$\")\n",
    "plt.plot(xvals,[df(x,r) for x in xvals],c='g',label=\"$f_r'(x)=r\\pi\\cos(\\pi x)$\")\n",
    "plt.plot(xvals,0*xvals,c='grey',linestyle=':')\n",
    "plt.plot(xvals,[1]*len(xvals),c='grey',linestyle=':')\n",
    "plt.plot(xvals,[-1]*len(xvals),c='grey',linestyle=':')\n",
    "plt.legend()\n",
    "plt.show()"
   ]
  },
  {
   "cell_type": "code",
   "execution_count": null,
   "metadata": {
    "colab": {
     "base_uri": "https://localhost:8080/",
     "height": 828
    },
    "id": "WWohe4kQBH2x",
    "outputId": "56a2af6a-25bd-4ef6-fa22-05e606f1e973"
   },
   "outputs": [],
   "source": [
    "r=0.5\n",
    "plt.xlabel(\"$x$\")\n",
    "plt.title(\"Raíces del mapa del seno para $r=\"+str(r)+\"$\")\n",
    "xvals = np.linspace(0.0,1.0,100)\n",
    "plt.plot(xvals,xvals,c='b',label=\"$x$\")  \n",
    "plt.plot(xvals,[f(x,r) for x in xvals],c='r',label=\"$f_r(x)=r\\sin(\\pi x)$\")\n",
    "plt.plot(xvals,[df(x,r) for x in xvals],c='g',label=\"$f_r'(x)=r\\pi\\cos(\\pi x)$\")\n",
    "plt.plot(xvals,0*xvals,c='grey',linestyle=':')\n",
    "plt.plot(xvals,[1]*len(xvals),c='grey',linestyle=':')\n",
    "plt.plot(xvals,[-1]*len(xvals),c='grey',linestyle=':')\n",
    "plt.legend()\n",
    "plt.show()"
   ]
  },
  {
   "cell_type": "code",
   "execution_count": null,
   "metadata": {
    "colab": {
     "base_uri": "https://localhost:8080/",
     "height": 843
    },
    "id": "CHK66xBZBOxX",
    "outputId": "8abff9ea-4eb7-478b-c8da-ea444228fba9"
   },
   "outputs": [],
   "source": [
    "r=0.8\n",
    "plt.xlabel(\"$x$\")\n",
    "plt.title(\"Raíces del mapa del seno para $r=\"+str(r)+\"$\")\n",
    "xvals = np.linspace(0.0,1.0,100)\n",
    "plt.plot(xvals,xvals,c='b',label=\"$x$\")  \n",
    "plt.plot(xvals,[f(x,r) for x in xvals],c='r',label=\"$f_r(x)=r\\sin(\\pi x)$\")\n",
    "plt.plot(xvals,[df(x,r) for x in xvals],c='g',label=\"$f_r'(x)=r\\pi\\cos(\\pi x)$\")\n",
    "plt.plot(xvals,0*xvals,c='grey',linestyle=':')\n",
    "plt.plot(xvals,[1]*len(xvals),c='grey',linestyle=':')\n",
    "plt.plot(xvals,[-1]*len(xvals),c='grey',linestyle=':')\n",
    "plt.legend()\n",
    "plt.show()"
   ]
  },
  {
   "cell_type": "code",
   "execution_count": null,
   "metadata": {
    "colab": {
     "base_uri": "https://localhost:8080/",
     "height": 843
    },
    "id": "dDnjbEgaPxMX",
    "outputId": "19736ff9-8109-4934-8d3e-2dd710d8c724"
   },
   "outputs": [],
   "source": [
    "r=1.0\n",
    "plt.xlabel(\"$x$\")\n",
    "plt.title(\"Raíces del mapa del seno para $r=\"+str(r)+\"$\")\n",
    "xvals = np.linspace(0.0,1.0,100)\n",
    "plt.plot(xvals,xvals,c='b',label=\"$x$\")  \n",
    "plt.plot(xvals,[f(x,r) for x in xvals],c='r',label=\"$f_r(x)=r\\sin(\\pi x)$\")\n",
    "plt.plot(xvals,[df(x,r) for x in xvals],c='g',label=\"$f_r'(x)=r\\pi\\cos(\\pi x)$\")\n",
    "plt.plot(xvals,0*xvals,c='grey',linestyle=':')\n",
    "plt.plot(xvals,[1]*len(xvals),c='grey',linestyle=':')\n",
    "plt.plot(xvals,[-1]*len(xvals),c='grey',linestyle=':')\n",
    "plt.legend()\n",
    "plt.show()"
   ]
  },
  {
   "cell_type": "markdown",
   "metadata": {
    "id": "Mc0WHYAmb9Lx"
   },
   "source": [
    "**3bis)**"
   ]
  },
  {
   "cell_type": "code",
   "execution_count": null,
   "metadata": {
    "colab": {
     "base_uri": "https://localhost:8080/",
     "height": 818
    },
    "id": "x_q-RRvLPyUQ",
    "outputId": "75b74710-f0e5-4938-8d8a-171c9aa144e9"
   },
   "outputs": [],
   "source": [
    "# a)\n",
    "x0 = 0.75\n",
    "r = 0.1\n",
    "k = 100\n",
    "plot_trajectory(lambda x:f(x,r),x0,k)"
   ]
  },
  {
   "cell_type": "code",
   "execution_count": null,
   "metadata": {
    "colab": {
     "base_uri": "https://localhost:8080/",
     "height": 810
    },
    "id": "LL7kZYzLcCQk",
    "outputId": "4eb50708-75e5-4cd5-cc88-33ae764f413b"
   },
   "outputs": [],
   "source": [
    "# b)\n",
    "x0 = 0.75\n",
    "r = 0.7\n",
    "k = 100\n",
    "plot_trajectory(lambda x:f(x,r),x0,k)"
   ]
  },
  {
   "cell_type": "code",
   "execution_count": null,
   "metadata": {
    "colab": {
     "base_uri": "https://localhost:8080/",
     "height": 810
    },
    "id": "KrwaIk1TcD70",
    "outputId": "eeec990a-b443-422d-9b78-e0bdd012dcca"
   },
   "outputs": [],
   "source": [
    "# c)\n",
    "x0 = 0.75\n",
    "r = 0.8\n",
    "k = 100\n",
    "plot_trajectory(lambda x:f(x,r),x0,k)"
   ]
  },
  {
   "cell_type": "code",
   "execution_count": null,
   "metadata": {
    "colab": {
     "base_uri": "https://localhost:8080/",
     "height": 818
    },
    "id": "eweJ1uGAcSWj",
    "outputId": "28e6c6c3-520b-4075-a83a-bd910504c75e"
   },
   "outputs": [],
   "source": [
    "# d)\n",
    "x0 = 0.75\n",
    "r = 0.9\n",
    "k = 100\n",
    "plot_trajectory(lambda x:f(x,r),x0,k)"
   ]
  },
  {
   "cell_type": "markdown",
   "metadata": {
    "id": "RyUsfl5VpmHZ"
   },
   "source": [
    "**4bis)**"
   ]
  },
  {
   "cell_type": "code",
   "execution_count": null,
   "metadata": {
    "colab": {
     "base_uri": "https://localhost:8080/",
     "height": 807
    },
    "id": "8It668JOcYt-",
    "outputId": "4ab2e4a7-7b41-4b92-e06c-1e949059b67e"
   },
   "outputs": [],
   "source": [
    "# a)\n",
    "x0=0.8\n",
    "r=0.1\n",
    "k=100\n",
    "plot_cobweb(lambda x:f(x,r),x0,k,title=\"$r=\"+str(r)+\"$\")"
   ]
  },
  {
   "cell_type": "code",
   "execution_count": null,
   "metadata": {
    "colab": {
     "base_uri": "https://localhost:8080/",
     "height": 807
    },
    "id": "df0k2LFTpylz",
    "outputId": "8d5d5439-754a-49be-c741-2d1997c9d8d0"
   },
   "outputs": [],
   "source": [
    "# b)\n",
    "x0=0.8\n",
    "r=0.7\n",
    "k=100\n",
    "plot_cobweb(lambda x:f(x,r),x0,k,title=\"$r=\"+str(r)+\"$\")"
   ]
  },
  {
   "cell_type": "code",
   "execution_count": null,
   "metadata": {
    "colab": {
     "base_uri": "https://localhost:8080/",
     "height": 807
    },
    "id": "KZ3PtlDspu22",
    "outputId": "65c304c9-8bb1-4d59-b973-bc5387cddfe7"
   },
   "outputs": [],
   "source": [
    "# c)\n",
    "x0=0.8\n",
    "r=0.9\n",
    "k=100\n",
    "plot_cobweb(lambda x:f(x,r),x0,k,title=\"$r=\"+str(r)+\"$\")"
   ]
  },
  {
   "cell_type": "markdown",
   "metadata": {
    "id": "wYWgsTwZqEWc"
   },
   "source": [
    "**5bis)**"
   ]
  },
  {
   "cell_type": "code",
   "execution_count": null,
   "metadata": {
    "colab": {
     "base_uri": "https://localhost:8080/",
     "height": 1000
    },
    "id": "fr-GzZugp-Mw",
    "outputId": "2a2cd5ba-9925-4854-bd9b-d84293167f61"
   },
   "outputs": [],
   "source": [
    "plot_orbit_diagram(f,0.0,1.0,title=\"sin map\")"
   ]
  },
  {
   "cell_type": "markdown",
   "metadata": {
    "id": "aKWE8hU2taVL"
   },
   "source": [
    "**6bis)**"
   ]
  },
  {
   "cell_type": "code",
   "execution_count": null,
   "metadata": {
    "colab": {
     "base_uri": "https://localhost:8080/",
     "height": 796
    },
    "id": "yNJ_x82PqNxY",
    "outputId": "d3378e13-3f79-4f1f-d071-ccd632c0a34d"
   },
   "outputs": [],
   "source": [
    "r_list = np.linspace(0.0,1.0,300)\n",
    "plot_lyapunov(f,df,r_list,samples=100,title=\"sin map\")"
   ]
  }
 ],
 "metadata": {
  "@webio": {
   "lastCommId": null,
   "lastKernelId": null
  },
  "colab": {
   "collapsed_sections": [],
   "name": "mapa-logistico.ipynb",
   "provenance": []
  },
  "kernelspec": {
   "display_name": "Python 3 (ipykernel)",
   "language": "python",
   "name": "python3"
  },
  "language_info": {
   "codemirror_mode": {
    "name": "ipython",
    "version": 3
   },
   "file_extension": ".py",
   "mimetype": "text/x-python",
   "name": "python",
   "nbconvert_exporter": "python",
   "pygments_lexer": "ipython3",
   "version": "3.9.12"
  }
 },
 "nbformat": 4,
 "nbformat_minor": 1
}
