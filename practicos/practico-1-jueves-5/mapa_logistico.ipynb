{
 "cells": [
  {
   "cell_type": "markdown",
   "metadata": {
    "id": "dbHHcQpGZX_J"
   },
   "source": [
    "# Practico 1 : mapa logístico\n",
    "\n",
    "La ecuación que determina la dinámica del mapa logístico es\n",
    "\n",
    "$$\n",
    "x_{t+1} = f_r(x_t) = r x_t (1-x_t)\n",
    "$$\n",
    "\n",
    "donde $x_t\\in [0,1]$ para todo tiempo discreto $t\\in\\{0,1,...\\}$, $x_0$ es la condicion inicial, y $r\\in [0,4]$ es un parámetro.\n",
    "\n",
    "**1)** Calcule los puntos fijos\n",
    "\n",
    "**2)** Determine la estabilidad de los puntos fijos.\n",
    "\n",
    "**3)** Calcule y grafique $k=100$ pasos de las trayectorias $x_t$ para\n",
    "\n",
    "&nbsp; &nbsp; **a)** $x_0=0.8$ y $r=1$.\n",
    "    \n",
    "&nbsp; &nbsp; **b)** $x_0=0.1$ y $r=3$.\n",
    "    \n",
    "&nbsp; &nbsp; **c)** $x_0=0.75$ y $r=3.8$.\n",
    "    \n",
    "**4)** Grafique los primeros $k=100$ del diagrama de Verhulst o *Cobweb* de las trayectorias: \n",
    "\n",
    "&nbsp; &nbsp; **a)** $x_0=0.8$ y $r=1.1$.\n",
    "    \n",
    "&nbsp; &nbsp; **b)** $x_0=0.1$ y $r=3.5$.\n",
    "    \n",
    "&nbsp; &nbsp; **c)** $x_0=0.75$ y $r=3.8$.\n",
    "\n",
    "Para ello:\n",
    "\n",
    "&nbsp; &nbsp; **i)** Grafique la recta $y=x$ en azul y $y=f(x)$ en cyan para $x\\in [0,1]$ e $y\\in [0,1]$.\n",
    "    \n",
    "&nbsp; &nbsp; **ii)** Inicie en el punto $(x_0,0)$ para $t=0$.\n",
    "    \n",
    "&nbsp; &nbsp; **iii)** Trace una linea vertical entre el punto anterior $(x_t,y_t)$ y el punto y $(x_t,y_{t+1})$ con $y_{t+1}=f(x_t)$.\n",
    "    \n",
    "&nbsp; &nbsp; **iv)** Trace una línea horizontal entre el punto $(x_t,y_{t+1})$ y el punto $(x_{t+1},y_{t+1})$ con $x_{t+1}=y_{t+1}$.\n",
    "    \n",
    "&nbsp; &nbsp; **v)** Grafique un punto en $(x_t,f(x_t))$.\n",
    "    \n",
    "&nbsp; &nbsp; **vi)** Mientras $t<k$, retorne al punto **iii)** remplazando $t$ por $t+1$. En caso contrario, termine.\n",
    "\n",
    "**5)** Grafique el diagrama de bifurcaciones del mapa logístico. Para ello:\n",
    "\n",
    "&nbsp; &nbsp; **i)** Muestree 300 valores equidistantes de $r$ en $[3,4]$.\n",
    "\n",
    "&nbsp; &nbsp; **ii)** Para cada valor de $r$, muestree 300 valores de $x_0$ elegidos al azar en $(0,1)$.\n",
    "\n",
    "&nbsp; &nbsp; **iii)** Para cada valor de $r$ y $x_0$, compute $t=200$ iteraciones del mapa logistico hasta obtener una aproximación $x_t(x_0)$ de algún punto del atractor del mapa, y guarde el punto $(r,x_t(x_0))$ en una lista.\n",
    "\n",
    "&nbsp; &nbsp; **iv)** Grafique los $300^2$ puntos guardados en el plano $x$ vs $r$.\n",
    "\n",
    "**6)** Calcule y grafique el exponente de Lyapunov vs $r$ del mapa logístico.\n",
    "\n",
    "**7)** Adaptando el análisis, repita lo anterior para el **mapa de la carpa**, el cual viene dado por:\n",
    "\n",
    "$$x_{t+1}\n",
    "=\n",
    "f_r(x_t)\n",
    "=\n",
    "\\bigg\\{\n",
    "\\begin{array}{ll}\n",
    "rx_t & 0\\leq x_t\\leq 1/2, \\\\\n",
    "r(1-x_t) & 1/2\\leq x_t\\leq 1\n",
    "\\end{array}\n",
    "$$\n",
    "\n",
    "para $0\\leq r\\leq 2$ y $0\\leq x_t\\leq 1$ para todo $t$.\n",
    "\n",
    "**8)** Adaptando el análisis, repita lo anterior para el **mapa del seno**, el cual viene dado por:\n",
    "\n",
    "$$x_{t+1}\n",
    "=\n",
    "f_r(x_t)\n",
    "=\n",
    "r\\sin(\\pi x_n)\n",
    "$$\n",
    "\n",
    "para $0\\leq r\\leq 1$ y $0\\leq x_t\\leq 1$ para todo $t$."
   ]
  },
  {
   "cell_type": "code",
   "execution_count": 1,
   "metadata": {
    "id": "E4BmG7O2bhmX"
   },
   "outputs": [],
   "source": [
    "import numpy as np"
   ]
  },
  {
   "cell_type": "code",
   "execution_count": 2,
   "metadata": {
    "colab": {
     "base_uri": "https://localhost:8080/"
    },
    "id": "rDoN-Nd_Oz0D",
    "outputId": "bfd16534-9aff-428e-ccfc-ce2a8939fe32"
   },
   "outputs": [
    {
     "name": "stdout",
     "output_type": "stream",
     "text": [
      "Not running on CoLab\n"
     ]
    }
   ],
   "source": [
    "LATEX = True\n",
    "import matplotlib.pyplot as plt\n",
    "if LATEX:\n",
    "    import matplotlib\n",
    "    #from matplotlib import rc\n",
    "    if 'google.colab' in str(get_ipython()):\n",
    "        matplotlib.rc('text', usetex=True)\n",
    "        matplotlib.rcParams['text.latex.preamble'] = [r'\\usepackage{amsmath}']\n",
    "        print('Running on CoLab')\n",
    "        !apt install texlive-fonts-recommended texlive-fonts-extra cm-super dvipng    \n",
    "    else:\n",
    "        matplotlib.rc('text', usetex=False)\n",
    "        matplotlib.rcParams['text.latex.preamble'] = [r'\\usepackage{amsmath}']    \n",
    "        print('Not running on CoLab')  \n",
    "# %matplotlib inline"
   ]
  },
  {
   "cell_type": "code",
   "execution_count": 3,
   "metadata": {
    "id": "RKYK1dSnlxVW"
   },
   "outputs": [],
   "source": [
    "# Incrementar la resolución y las dimensiones de los gráficos\n",
    "plt.rcParams[\"figure.figsize\"] = (7,5) # Dimensiones de las figuras\n",
    "plt.rcParams['figure.dpi'] = 100 # Resolución"
   ]
  },
  {
   "cell_type": "markdown",
   "metadata": {},
   "source": [
    "## Rta. 1)"
   ]
  },
  {
   "cell_type": "code",
   "execution_count": null,
   "metadata": {
    "id": "9Hrs0aBrte-b"
   },
   "outputs": [],
   "source": []
  }
 ],
 "metadata": {
  "@webio": {
   "lastCommId": null,
   "lastKernelId": null
  },
  "colab": {
   "collapsed_sections": [],
   "name": "mapa-logistico.ipynb",
   "provenance": []
  },
  "kernelspec": {
   "display_name": "Python 3 (ipykernel)",
   "language": "python",
   "name": "python3"
  },
  "language_info": {
   "codemirror_mode": {
    "name": "ipython",
    "version": 3
   },
   "file_extension": ".py",
   "mimetype": "text/x-python",
   "name": "python",
   "nbconvert_exporter": "python",
   "pygments_lexer": "ipython3",
   "version": "3.9.12"
  }
 },
 "nbformat": 4,
 "nbformat_minor": 1
}
