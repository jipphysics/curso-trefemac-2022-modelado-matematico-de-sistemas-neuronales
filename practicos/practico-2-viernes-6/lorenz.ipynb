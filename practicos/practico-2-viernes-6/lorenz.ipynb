{
 "cells": [
  {
   "cell_type": "markdown",
   "metadata": {
    "id": "Y0uRRG0dbhmT"
   },
   "source": [
    "# Practico 2: Lorenz\n",
    "\n",
    "**1)** Implemente una función que retorne el lado derecho de la ODE de Lorenz\n",
    "\n",
    "\\begin{eqnarray}\n",
    "\\frac{dx}{dt} & = & s(y-x) \\\\\n",
    "\\frac{dy}{dt} & = & rx-y-xz \\\\\n",
    "\\frac{dz}{dt} & = & xy-bz \n",
    "\\end{eqnarray}\n",
    "\n",
    "**2)** Sea $\\vec{x}(t)=(x(t),y(t),z(t))$ y $p=(s,r,b)$. Usando el método de Runge-Kutta de orden 4 aquí proveído, resuelva la ODE para:\n",
    "\n",
    "&nbsp; &nbsp; **i)** $\\vec{x}(0)=(1,0.5,0.1)$, $p=(10,0.5,8/3)$ y $t\\in [0,10]$.\n",
    "\n",
    "&nbsp; &nbsp; **ii)** $\\vec{x}(0)=(1,0.5,0.1)$ y $p=(10,10,8/3)$ y $t\\in [0,20]$.\n",
    "\n",
    "&nbsp; &nbsp; **iii)** $\\vec{x}(0)=(1,0.5,0.1)$ y $p=(10,28,8/3)$ y $t\\in [0,50]$\n",
    "\n",
    "**3)** Para cada caso calculado en el inciso **2)**, grafique las curvas en función del tiempo $x(t)$, $y(t)$ y $z(t))$ en un mismo gráfico.\n",
    "\n",
    "**4)** Para cada caso calculado en el inciso **2)**, grafique en paramétricamente en función del tiempo, y en 3 dimensiones, la trayectoria de la solución $\\vec{x}(t)=(x(t),y(t),z(t))$.\n",
    "\n",
    "**5)** Repita el caso **2.iii)** para $t\\in [0,300]$ eliminando el transiente.\n",
    "\n",
    "**6)** Identifique los máximos locales de la curva $z(t)$ obtenida en **5)**, y enumérelos como $z_1,z_2,...,z_i,...,z_n$.\n",
    "\n",
    "**7)** Grafique $z_{i+1}$ vs $z_i$ para todo $i\\in\\{1,2,...,n-1\\}$.\n",
    "\n",
    "**8)** Con la intención de imitar un set de datos, agregue ruido Gaussiano de varianza $\\sigma^2=1$ a la curva $z(t)$ vs $t$ generada en el inciso **2)**. Llamaremos a esta nueva curva $\\tilde{z}(t)$ vs $t$. Grafíquela.\n",
    "\n",
    "**9)** Utilice algún algoritmo de suavizado de curvas para suavizar $\\tilde{z}(t)$ vs $t$.\n",
    "\n",
    "**10)** Utilice la curva suavizada del inciso **9)** para identificar máximos locales correspondientes, $\\tilde{z}_1$, $\\tilde{z}_2$, ...,  $\\tilde{z}_n$.\n",
    "\n",
    "**11)** Grafique $\\tilde{z}_{i+1}$ vs $\\tilde{z}_i$ para todo $i\\in\\{1,2,...,n-1\\}$.\n",
    "\n",
    "**12)** Compare el gráfico del inciso **11)** con el del inciso **7)**, discuta y comente."
   ]
  },
  {
   "cell_type": "code",
   "execution_count": null,
   "metadata": {
    "id": "E4BmG7O2bhmX"
   },
   "outputs": [],
   "source": [
    "import numpy as np\n",
    "import scipy as sp"
   ]
  },
  {
   "cell_type": "code",
   "execution_count": null,
   "metadata": {
    "colab": {
     "base_uri": "https://localhost:8080/"
    },
    "id": "rDoN-Nd_Oz0D",
    "outputId": "175a1edf-0121-418a-8a4e-7c7b18b08a97"
   },
   "outputs": [],
   "source": [
    "LATEX = True\n",
    "import matplotlib.pyplot as plt\n",
    "if LATEX:\n",
    "  import matplotlib\n",
    "  #from matplotlib import rc\n",
    "  matplotlib.rc('text', usetex=True)\n",
    "  matplotlib.rcParams['text.latex.preamble'] = [r'\\usepackage{amsmath}']\n",
    "  if 'google.colab' in str(get_ipython()):\n",
    "    print('Running on CoLab')\n",
    "    !apt install texlive-fonts-recommended texlive-fonts-extra cm-super dvipng    \n",
    "  else:\n",
    "    print('Not running on CoLab')  \n",
    "# %matplotlib inline"
   ]
  },
  {
   "cell_type": "code",
   "execution_count": null,
   "metadata": {
    "id": "YQOcYw5iA_oE"
   },
   "outputs": [],
   "source": [
    "plt.rcParams[\"figure.figsize\"] = (7,5) # Dimensions of the figure\n",
    "plt.rcParams['figure.dpi'] = 100 # Resolucion"
   ]
  },
  {
   "cell_type": "markdown",
   "metadata": {
    "id": "xgqoe41vYcmP"
   },
   "source": [
    "## Integrador ODE"
   ]
  },
  {
   "cell_type": "code",
   "execution_count": null,
   "metadata": {
    "id": "KHLrtluvbhmY"
   },
   "outputs": [],
   "source": [
    "def rk4(f,x,t,h,p):\n",
    "    \"\"\"\n",
    "    Calcula un paso de integración del método de Runge Kutta orden 4.\n",
    "    \n",
    "    Argumentos de entrada:\n",
    "    \n",
    "        f : R^n -> R^n\n",
    "        x = x(t) : R^n\n",
    "        t = tiempo : R\n",
    "        h = paso de tiempo : R\n",
    "        p = parametros : R^q        \n",
    "        \n",
    "    Retorna aproximacion numérica de\n",
    "    \n",
    "        x(t+h) : R^n\n",
    "\n",
    "    # Ejemplos:\n",
    "    \"\"\"    \n",
    "    k1 = f(x,t,p)\n",
    "    k2 = f(x+0.5*h*k1,t+0.5*h,p)\n",
    "    k3 = f(x+0.5*h*k2,t+0.5*h,p)\n",
    "    k4 = f(x+h*k3,t+h,p)\n",
    "    \n",
    "    return x+h*(k1+2.0*k2+2.0*k3+k4)/6.0"
   ]
  },
  {
   "cell_type": "code",
   "execution_count": null,
   "metadata": {
    "id": "_p4330nwbhmZ"
   },
   "outputs": [],
   "source": [
    "def integrador_ode(m,f,x0,a,b,k,p):\n",
    "    \"\"\"\n",
    "    Integra numéricamente la ODE\n",
    "    \n",
    "        dx/dt = f(x,t)\n",
    "        \n",
    "    sobre el intervalo t:[a,b] usando k pasos de integración y el método m, bajo condicion inicial x(a)=x0.\n",
    "    No es necesario que a<b.\n",
    "    \n",
    "    Argumentos de entrada:\n",
    "    \n",
    "        m = metodo de integracion (ej. euler, rk2, etc.)\n",
    "        f : R^n -> R^n\n",
    "        x0 = condicion inicial : R\n",
    "        a = tiempo inicial : R\n",
    "        b = tiempo final : R\n",
    "        k = num. pasos de integracion : N\n",
    "        p = parametros : R^q\n",
    "    \n",
    "    Retorna:\n",
    "    \n",
    "        t : R^{k+1} , t_j = a+j*h para j=0,1,...,k\n",
    "        x : R^{n,k+1} , x_ij = x_i(t_j) para i=0,1,...,n-1 y j=0,1,...,k\n",
    "        \n",
    "    donde a+k*dt = b.\n",
    "    \"\"\"  \n",
    "    assert k>0\n",
    "    n = len(x0)\n",
    "    h = (b-a)/k\n",
    "    x = np.zeros((n,k+1)) # Produce un array con forma y tipo especificada con los parametros, \n",
    "                          # lleno de ceros. la forma puede ser espcificada con un entero o tupla (n,k+1)    \n",
    "    t = np.zeros(k+1)\n",
    "    x[:,0] = x0           # actualiza la posicion inicial (columna de indice 0) de las variables con los valores \n",
    "                          # de las condiciones iniciales\n",
    "    t[0] = a              # actualiza la posicion cero con el valor del tiempo inicial\n",
    "    \n",
    "    for j in range(k):    #Aca se produce la iteración en j \n",
    "        \n",
    "        t[j+1] = t[j] + h   # iteracion tiempo \n",
    "        x[:,j+1] = m(f,x[:,j],t[j],h,p) # iteracion de x \n",
    "        \n",
    "    return t,x"
   ]
  },
  {
   "cell_type": "markdown",
   "metadata": {
    "id": "z38jgrONmyxO"
   },
   "source": [
    "## Rta. 1)"
   ]
  }
 ],
 "metadata": {
  "@webio": {
   "lastCommId": null,
   "lastKernelId": null
  },
  "colab": {
   "collapsed_sections": [],
   "name": "lorenz.ipynb",
   "provenance": []
  },
  "kernelspec": {
   "display_name": "Python 3 (ipykernel)",
   "language": "python",
   "name": "python3"
  },
  "language_info": {
   "codemirror_mode": {
    "name": "ipython",
    "version": 3
   },
   "file_extension": ".py",
   "mimetype": "text/x-python",
   "name": "python",
   "nbconvert_exporter": "python",
   "pygments_lexer": "ipython3",
   "version": "3.9.12"
  }
 },
 "nbformat": 4,
 "nbformat_minor": 1
}
