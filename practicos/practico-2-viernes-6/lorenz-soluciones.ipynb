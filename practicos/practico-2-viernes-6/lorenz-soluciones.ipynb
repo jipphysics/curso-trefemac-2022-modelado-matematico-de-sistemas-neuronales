{
 "cells": [
  {
   "cell_type": "markdown",
   "metadata": {
    "id": "Y0uRRG0dbhmT"
   },
   "source": [
    "# Practico 2: Lorenz\n",
    "\n",
    "**1)** Implemente una función que retorne el lado derecho de la ODE de Lorenz\n",
    "\n",
    "\\begin{eqnarray}\n",
    "\\frac{dx}{dt} & = & s(y-x) \\\\\n",
    "\\frac{dy}{dt} & = & rx-y-xz \\\\\n",
    "\\frac{dz}{dt} & = & xy-bz \n",
    "\\end{eqnarray}\n",
    "\n",
    "**2)** Sea $\\vec{x}(t)=(x(t),y(t),z(t))$ y $p=(s,r,b)$. Usando el método de Runge-Kutta de orden 4 aquí proveído, resuelva la ODE para:\n",
    "\n",
    "&nbsp; &nbsp; **i)** $\\vec{x}(0)=(1,0.5,0.1)$, $p=(10,0.5,8/3)$ y $t\\in [0,10]$.\n",
    "\n",
    "&nbsp; &nbsp; **ii)** $\\vec{x}(0)=(1,0.5,0.1)$ y $p=(10,10,8/3)$ y $t\\in [0,20]$.\n",
    "\n",
    "&nbsp; &nbsp; **iii)** $\\vec{x}(0)=(1,0.5,0.1)$ y $p=(10,28,8/3)$ y $t\\in [0,50]$\n",
    "\n",
    "**3)** Para cada caso calculado en el inciso **2)**, grafique las curvas en función del tiempo $x(t)$, $y(t)$ y $z(t))$ en un mismo gráfico.\n",
    "\n",
    "**4)** Para cada caso calculado en el inciso **2)**, grafique en paramétricamente en función del tiempo, y en 3 dimensiones, la trayectoria de la solución $\\vec{x}(t)=(x(t),y(t),z(t))$.\n",
    "\n",
    "**5)** Repita el caso **2.iii)** para $t\\in [0,300]$ eliminando el transiente.\n",
    "\n",
    "**6)** Identifique los máximos locales de la curva $z(t)$ obtenida en **5)**, y enumérelos como $z_1,z_2,...,z_i,...,z_n$.\n",
    "\n",
    "**7)** Grafique $z_{i+1}$ vs $z_i$ para todo $i\\in\\{1,2,...,n-1\\}$.\n",
    "\n",
    "**8)** Con la intención de imitar un set de datos, agregue ruido Gaussiano de varianza $\\sigma^2=1$ a la curva $z(t)$ vs $t$ generada en el inciso **2)**. Llamaremos a esta nueva curva $\\tilde{z}(t)$ vs $t$. Grafíquela.\n",
    "\n",
    "**9)** Utilice algún algoritmo de suavizado de curvas para suavizar $\\tilde{z}(t)$ vs $t$.\n",
    "\n",
    "**10)** Utilice la curva suavizada del inciso **9)** para identificar máximos locales correspondientes, $\\tilde{z}_1$, $\\tilde{z}_2$, ...,  $\\tilde{z}_n$.\n",
    "\n",
    "**11)** Grafique $\\tilde{z}_{i+1}$ vs $\\tilde{z}_i$ para todo $i\\in\\{1,2,...,n-1\\}$.\n",
    "\n",
    "**12)** Compare el gráfico del inciso **11)** con el del inciso **7)**, discuta y comente."
   ]
  },
  {
   "cell_type": "code",
   "execution_count": null,
   "metadata": {
    "id": "E4BmG7O2bhmX"
   },
   "outputs": [],
   "source": [
    "import numpy as np\n",
    "import scipy as sp"
   ]
  },
  {
   "cell_type": "code",
   "execution_count": null,
   "metadata": {
    "colab": {
     "base_uri": "https://localhost:8080/"
    },
    "id": "rDoN-Nd_Oz0D",
    "outputId": "175a1edf-0121-418a-8a4e-7c7b18b08a97"
   },
   "outputs": [],
   "source": [
    "LATEX = True\n",
    "import matplotlib.pyplot as plt\n",
    "if LATEX:\n",
    "  import matplotlib\n",
    "  #from matplotlib import rc\n",
    "  matplotlib.rc('text', usetex=True)\n",
    "  matplotlib.rcParams['text.latex.preamble'] = [r'\\usepackage{amsmath}']\n",
    "  if 'google.colab' in str(get_ipython()):\n",
    "    print('Running on CoLab')\n",
    "    !apt install texlive-fonts-recommended texlive-fonts-extra cm-super dvipng    \n",
    "  else:\n",
    "    print('Not running on CoLab')  \n",
    "# %matplotlib inline"
   ]
  },
  {
   "cell_type": "code",
   "execution_count": null,
   "metadata": {
    "id": "YQOcYw5iA_oE"
   },
   "outputs": [],
   "source": [
    "plt.rcParams[\"figure.figsize\"] = (7,5) # Dimensions of the figure\n",
    "plt.rcParams['figure.dpi'] = 100 # Resolucion"
   ]
  },
  {
   "cell_type": "markdown",
   "metadata": {
    "id": "xgqoe41vYcmP"
   },
   "source": [
    "## Integrador ODE"
   ]
  },
  {
   "cell_type": "code",
   "execution_count": null,
   "metadata": {
    "id": "KHLrtluvbhmY"
   },
   "outputs": [],
   "source": [
    "def rk4(f,x,t,h,p):\n",
    "    \"\"\"\n",
    "    Calcula un paso de integración del método de Runge Kutta orden 4.\n",
    "    \n",
    "    Argumentos de entrada:\n",
    "    \n",
    "        f : R^n -> R^n\n",
    "        x = x(t) : R^n\n",
    "        t = tiempo : R\n",
    "        h = paso de tiempo : R\n",
    "        p = parametros : R^q        \n",
    "        \n",
    "    Retorna aproximacion numérica de\n",
    "    \n",
    "        x(t+h) : R^n\n",
    "\n",
    "    # Ejemplos:\n",
    "    \"\"\"    \n",
    "    k1 = f(x,t,p)\n",
    "    k2 = f(x+0.5*h*k1,t+0.5*h,p)\n",
    "    k3 = f(x+0.5*h*k2,t+0.5*h,p)\n",
    "    k4 = f(x+h*k3,t+h,p)\n",
    "    \n",
    "    return x+h*(k1+2.0*k2+2.0*k3+k4)/6.0"
   ]
  },
  {
   "cell_type": "code",
   "execution_count": null,
   "metadata": {
    "id": "_p4330nwbhmZ"
   },
   "outputs": [],
   "source": [
    "def integrador_ode(m,f,x0,a,b,k,p):\n",
    "    \"\"\"\n",
    "    Integra numéricamente la ODE\n",
    "    \n",
    "        dx/dt = f(x,t)\n",
    "        \n",
    "    sobre el intervalo t:[a,b] usando k pasos de integración y el método m, bajo condicion inicial x(a)=x0.\n",
    "    No es necesario que a<b.\n",
    "    \n",
    "    Argumentos de entrada:\n",
    "    \n",
    "        m = metodo de integracion (ej. euler, rk2, etc.)\n",
    "        f : R^n -> R^n\n",
    "        x0 = condicion inicial : R\n",
    "        a = tiempo inicial : R\n",
    "        b = tiempo final : R\n",
    "        k = num. pasos de integracion : N\n",
    "        p = parametros : R^q\n",
    "    \n",
    "    Retorna:\n",
    "    \n",
    "        t : R^{k+1} , t_j = a+j*h para j=0,1,...,k\n",
    "        x : R^{n,k+1} , x_ij = x_i(t_j) para i=0,1,...,n-1 y j=0,1,...,k\n",
    "        \n",
    "    donde a+k*dt = b.\n",
    "    \"\"\"  \n",
    "    assert k>0\n",
    "    n = len(x0)\n",
    "    h = (b-a)/k\n",
    "    x = np.zeros((n,k+1)) # Produce un array con forma y tipo especificada con los parametros, \n",
    "                          # lleno de ceros. la forma puede ser espcificada con un entero o tupla (n,k+1)    \n",
    "    t = np.zeros(k+1)\n",
    "    x[:,0] = x0           # actualiza la posicion inicial (columna de indice 0) de las variables con los valores \n",
    "                          # de las condiciones iniciales\n",
    "    t[0] = a              # actualiza la posicion cero con el valor del tiempo inicial\n",
    "    \n",
    "    for j in range(k):    #Aca se produce la iteración en j \n",
    "        \n",
    "        t[j+1] = t[j] + h   # iteracion tiempo \n",
    "        x[:,j+1] = m(f,x[:,j],t[j],h,p) # iteracion de x \n",
    "        \n",
    "    return t,x"
   ]
  },
  {
   "cell_type": "markdown",
   "metadata": {
    "id": "2ZuLXfmsm8xO"
   },
   "source": []
  },
  {
   "cell_type": "markdown",
   "metadata": {
    "id": "f3eYLAPNm9u2"
   },
   "source": [
    "## Teoría\n",
    "\n",
    "bla bla"
   ]
  },
  {
   "cell_type": "markdown",
   "metadata": {
    "id": "z38jgrONmyxO"
   },
   "source": [
    "## Rta. 1) Implementación del lado de derecho de la ODE"
   ]
  },
  {
   "cell_type": "code",
   "execution_count": null,
   "metadata": {
    "id": "KxSWTfDvo7wW"
   },
   "outputs": [],
   "source": [
    "def f(r,t,p):\n",
    "    \"\"\"\n",
    "    r[0] = x(t)    : \n",
    "    r[1] = y(t)    : \n",
    "    r[2] = z(t)    : \n",
    "    t              : tiempo\n",
    "    p[0] = s\n",
    "    p[1] = r\n",
    "    p[2] = b\n",
    "    Retorna [dx/dt,dy/dt,dz/dt]\n",
    "    \"\"\"\n",
    "    x = r[0]\n",
    "    y = r[1]\n",
    "    z = r[2]\n",
    "    s = p[0]\n",
    "    r = p[1]\n",
    "    b = p[2]\n",
    "    return np.array([\n",
    "      s*(y-x),\n",
    "      r*x-y-x*z,\n",
    "      x*y-b*z\n",
    "    ])"
   ]
  },
  {
   "cell_type": "markdown",
   "metadata": {
    "id": "c9cGk528-Ra9"
   },
   "source": [
    "## Rta. 2) y 3)"
   ]
  },
  {
   "cell_type": "code",
   "execution_count": null,
   "metadata": {
    "colab": {
     "base_uri": "https://localhost:8080/",
     "height": 453
    },
    "id": "qk7dQxjLDg6G",
    "outputId": "3d5b7b4a-66df-48df-a806-40978f41823f"
   },
   "outputs": [],
   "source": [
    "# a)\n",
    "s = 10.0\n",
    "r = 0.5\n",
    "b = 8.0/3.0\n",
    "p = np.array([s,r,b])\n",
    "x0 = 1.0\n",
    "y0 = 0.5\n",
    "z0 = 0.1\n",
    "r0 = np.array([x0,y0,z0])\n",
    "# Integramos\n",
    "tini = 0 # h\n",
    "tend = 10 # h\n",
    "dt = 0.01 # h\n",
    "nump = int((tend-tini)/dt) \n",
    "t,r = integrador_ode(rk4,f,r0,tini,tend,nump,p)\n",
    "x,y,z = r\n",
    "plt.xlabel(\"$t$\")\n",
    "plt.ylabel(\"\")\n",
    "plt.plot(t,x,label='x',linestyle='-')\n",
    "plt.plot(t,y,label='y',linestyle='-')\n",
    "plt.plot(t,z,label='z',linestyle='-')\n",
    "plt.legend()\n",
    "plt.show()"
   ]
  },
  {
   "cell_type": "code",
   "execution_count": null,
   "metadata": {
    "colab": {
     "base_uri": "https://localhost:8080/",
     "height": 453
    },
    "id": "9t0KpA6KFOvH",
    "outputId": "9f188198-5f4a-41b3-f2d6-197c4fa69bce"
   },
   "outputs": [],
   "source": [
    "# b)\n",
    "s = 10.0\n",
    "r = 10.0\n",
    "b = 8.0/3.0\n",
    "p = np.array([s,r,b])\n",
    "x0 = 1.0\n",
    "y0 = 0.5\n",
    "z0 = 0.1\n",
    "r0 = np.array([x0,y0,z0])\n",
    "# Integramos\n",
    "tini = 0 # h\n",
    "tend = 20 # h\n",
    "dt = 0.01 # h\n",
    "nump = int((tend-tini)/dt) \n",
    "t,r = integrador_ode(rk4,f,r0,tini,tend,nump,p)\n",
    "x,y,z = r\n",
    "plt.xlabel(\"$t$\")\n",
    "plt.ylabel(\"\")\n",
    "plt.plot(t,x,label='x',linestyle='-')\n",
    "plt.plot(t,y,label='y',linestyle='-')\n",
    "plt.plot(t,z,label='z',linestyle='-')\n",
    "plt.legend()\n",
    "plt.show()"
   ]
  },
  {
   "cell_type": "code",
   "execution_count": null,
   "metadata": {
    "colab": {
     "base_uri": "https://localhost:8080/",
     "height": 453
    },
    "id": "t-Ngvk1vFPYM",
    "outputId": "d6410e2b-2c53-4f68-896c-ace2115d0e48"
   },
   "outputs": [],
   "source": [
    "# c)\n",
    "s = 10.0\n",
    "r = 28.0\n",
    "b = 8.0/3.0\n",
    "p = np.array([s,r,b])\n",
    "x0 = 1.0\n",
    "y0 = 1.0\n",
    "z0 = 1.0\n",
    "r0 = np.array([x0,y0,z0])\n",
    "# Integramos\n",
    "tini = 0 # h\n",
    "tend = 50 # h\n",
    "dt = 0.01 # h\n",
    "nump = int((tend-tini)/dt) \n",
    "t,r = integrador_ode(rk4,f,r0,tini,tend,nump,p)\n",
    "x,y,z = r\n",
    "plt.xlabel(\"$t$\")\n",
    "plt.ylabel(\"\")\n",
    "plt.plot(t,x,label='x',linestyle='-')\n",
    "plt.plot(t,y,label='y',linestyle='-')\n",
    "plt.plot(t,z,label='z',linestyle='-')\n",
    "plt.legend()\n",
    "plt.show()"
   ]
  },
  {
   "cell_type": "markdown",
   "metadata": {
    "id": "Pl9HfFlDDQlM"
   },
   "source": [
    "## Rta. 4)"
   ]
  },
  {
   "cell_type": "code",
   "execution_count": null,
   "metadata": {
    "colab": {
     "base_uri": "https://localhost:8080/",
     "height": 413
    },
    "id": "-dFT_ApYpzrW",
    "outputId": "bc762ff4-ba70-4112-caed-37e984ad6216"
   },
   "outputs": [],
   "source": [
    "# a)\n",
    "s = 10.0\n",
    "r = 0.5\n",
    "b = 8.0/3.0\n",
    "p = np.array([s,r,b])\n",
    "x0 = 1.0\n",
    "y0 = 1.0\n",
    "z0 = 1.0\n",
    "r0 = np.array([x0,y0,z0])\n",
    "# Integramos\n",
    "tini = 0 # h\n",
    "tend = 10 # h\n",
    "dt = 0.01 # h\n",
    "nump = int((tend-tini)/dt) \n",
    "t,r = integrador_ode(rk4,f,r0,tini,tend,nump,p)\n",
    "x,y,z = r\n",
    "fig = plt.figure()\n",
    "ax = fig.add_subplot(111, projection='3d')\n",
    "ax.plot(x,y,z)\n",
    "ax.set_xlabel(\"$x$\")\n",
    "ax.set_ylabel(\"$y$\")\n",
    "ax.set_zlabel(\"$z$\")\n",
    "plt.show()"
   ]
  },
  {
   "cell_type": "code",
   "execution_count": null,
   "metadata": {
    "colab": {
     "base_uri": "https://localhost:8080/",
     "height": 413
    },
    "id": "E8hNJnyrBKyL",
    "outputId": "37808e4f-a944-435d-8f21-0921d24c9cc1"
   },
   "outputs": [],
   "source": [
    "# b)\n",
    "s = 10.0\n",
    "r = 10.0\n",
    "b = 8.0/3.0\n",
    "p = np.array([s,r,b])\n",
    "x0 = 1.0\n",
    "y0 = 1.0\n",
    "z0 = 1.0\n",
    "r0 = np.array([x0,y0,z0])\n",
    "# Integramos\n",
    "tini = 0 # h\n",
    "tend = 20 # h\n",
    "dt = 0.01 # h\n",
    "nump = int((tend-tini)/dt) \n",
    "t,r = integrador_ode(rk4,f,r0,tini,tend,nump,p)\n",
    "x,y,z = r\n",
    "fig = plt.figure()\n",
    "ax = fig.add_subplot(111, projection='3d')\n",
    "ax.plot(x,y,z)\n",
    "ax.set_xlabel(\"$x$\")\n",
    "ax.set_ylabel(\"$y$\")\n",
    "ax.set_zlabel(\"$z$\")\n",
    "plt.show()"
   ]
  },
  {
   "cell_type": "code",
   "execution_count": null,
   "metadata": {
    "colab": {
     "base_uri": "https://localhost:8080/",
     "height": 413
    },
    "id": "EZAyq1Z6BLVs",
    "outputId": "80aba1f5-cc7d-49bd-9cdc-0e6da3f5ff9d"
   },
   "outputs": [],
   "source": [
    "# c)\n",
    "s = 10.0\n",
    "r = 28.5\n",
    "b = 8.0/3.0\n",
    "p = np.array([s,r,b])\n",
    "x0 = 1.0\n",
    "y0 = 1.0\n",
    "z0 = 0.1\n",
    "r0 = np.array([x0,y0,z0])\n",
    "# Integramos\n",
    "tini = 0 # h\n",
    "tend = 50 # h\n",
    "dt = 0.01 # h\n",
    "nump = int((tend-tini)/dt) \n",
    "t,r = integrador_ode(rk4,f,r0,tini,tend,nump,p)\n",
    "x,y,z = r\n",
    "fig = plt.figure()\n",
    "ax = fig.add_subplot(111, projection='3d')\n",
    "ax.plot(x,y,z)\n",
    "ax.set_xlabel(\"$x$\")\n",
    "ax.set_ylabel(\"$y$\")\n",
    "ax.set_zlabel(\"$z$\")\n",
    "plt.show()"
   ]
  },
  {
   "cell_type": "markdown",
   "metadata": {
    "id": "GY0uYtGFWtnZ"
   },
   "source": [
    "## Rta. 5)"
   ]
  },
  {
   "cell_type": "code",
   "execution_count": null,
   "metadata": {
    "id": "GWWJft7oWssJ"
   },
   "outputs": [],
   "source": [
    "# c)\n",
    "s = 10.0\n",
    "r = 28.0\n",
    "b = 8.0/3.0\n",
    "p = np.array([s,r,b])\n",
    "x0 = 1.0\n",
    "y0 = 1.0\n",
    "z0 = 1.0\n",
    "r0 = np.array([x0,y0,z0])\n",
    "# Integramos\n",
    "tini = 0 # h\n",
    "tend = 300 # h\n",
    "dt = 0.01 # h\n",
    "nump = int((tend-tini)/dt) \n",
    "t,r = integrador_ode(rk4,f,r0,tini,tend,nump,p)\n",
    "t_trans = 50\n",
    "z = r[2][t_trans:]\n",
    "t = t[t_trans:]"
   ]
  },
  {
   "cell_type": "markdown",
   "metadata": {
    "id": "tYVuDFQ2ZKgs"
   },
   "source": [
    "## Rta. 6)"
   ]
  },
  {
   "cell_type": "code",
   "execution_count": null,
   "metadata": {
    "id": "sd9LGhxiX-T8"
   },
   "outputs": [],
   "source": [
    "tmaxs = [t[i] for i in range(1,len(z)-1) if z[i]>z[i-1] and z[i]>z[i+1]]\n",
    "zmaxs = [z[i] for i in range(1,len(z)-1) if z[i]>z[i-1] and z[i]>z[i+1]]"
   ]
  },
  {
   "cell_type": "code",
   "execution_count": null,
   "metadata": {
    "colab": {
     "base_uri": "https://localhost:8080/",
     "height": 453
    },
    "id": "5DPVTU-_ZO4M",
    "outputId": "981107e9-2186-49c8-f6da-100b2ff2a339"
   },
   "outputs": [],
   "source": [
    "plt.xlabel(\"$t$\")\n",
    "plt.ylabel(\"$z(t)$\")\n",
    "plt.plot(t,z,label='z',linestyle='-')\n",
    "plt.scatter(tmaxs,zmaxs,label='z',linestyle='-',c='r',s=10)\n",
    "plt.xlim(100,120)\n",
    "#plt.legend()\n",
    "plt.show()"
   ]
  },
  {
   "cell_type": "markdown",
   "metadata": {
    "id": "qNqupiXEvrJJ"
   },
   "source": [
    "## Rta. 7)"
   ]
  },
  {
   "cell_type": "code",
   "execution_count": null,
   "metadata": {
    "colab": {
     "base_uri": "https://localhost:8080/",
     "height": 458
    },
    "id": "B9kqV8evXDQL",
    "outputId": "3237336e-86fa-406a-c9f7-1f379ed5ba66"
   },
   "outputs": [],
   "source": [
    "plt.xlabel(\"$z_t$\")\n",
    "plt.ylabel(\"$z_{t+1}$\")\n",
    "plt.scatter(zmaxs[:-1],zmaxs[1:],label='z',linestyle='-')\n",
    "plt.plot([0,50],[0,50],c='r')\n",
    "plt.xlim(25,50)\n",
    "plt.ylim(25,50)\n",
    "#plt.legend()\n",
    "plt.show()"
   ]
  },
  {
   "cell_type": "markdown",
   "metadata": {
    "id": "udsRd6jUeMoL"
   },
   "source": [
    "## Rta. 8)"
   ]
  },
  {
   "cell_type": "code",
   "execution_count": null,
   "metadata": {
    "id": "lyRZigIueQ5r"
   },
   "outputs": [],
   "source": [
    "# Simulamos los datos agregando ruido a la curva z(t) obtenida en el inciso 5).\n",
    "tdata = t\n",
    "zdata = z + 1.0*np.random.normal(size=len(z))"
   ]
  },
  {
   "cell_type": "code",
   "execution_count": null,
   "metadata": {
    "colab": {
     "base_uri": "https://localhost:8080/",
     "height": 455
    },
    "id": "Y0varu_9xPND",
    "outputId": "19bd0790-a8b5-42ab-8ea9-8102ce259d5c"
   },
   "outputs": [],
   "source": [
    "plt.xlabel(\"$t$\")\n",
    "plt.ylabel(\"$\\tilde{z}(t)$\")\n",
    "plt.plot(tdata,zdata,label='z',linestyle='-')\n",
    "plt.xlim(100,120)\n",
    "#plt.xlim(100,110)\n",
    "#plt.xlim(105,106)\n",
    "#plt.legend()\n",
    "plt.show()"
   ]
  },
  {
   "cell_type": "markdown",
   "metadata": {
    "id": "1axFnsvbxeYy"
   },
   "source": [
    "## Rta. 9)"
   ]
  },
  {
   "cell_type": "code",
   "execution_count": null,
   "metadata": {
    "id": "5OfNplWhlnkR"
   },
   "outputs": [],
   "source": [
    "import scipy.signal as sgn"
   ]
  },
  {
   "cell_type": "code",
   "execution_count": null,
   "metadata": {
    "id": "zCTP4qdRklcE"
   },
   "outputs": [],
   "source": [
    "zsmooth = sgn.savgol_filter(zdata,35,3)\n",
    "tsmooth = t[:len(zsmooth)]"
   ]
  },
  {
   "cell_type": "markdown",
   "metadata": {
    "id": "kdcAJ2hZyKfM"
   },
   "source": [
    "## Rta. 10)"
   ]
  },
  {
   "cell_type": "code",
   "execution_count": null,
   "metadata": {
    "id": "imDUoodXeqwa"
   },
   "outputs": [],
   "source": [
    "zdatamean = zdata.mean()\n",
    "idatamaxs = [i for i in range(1,len(zsmooth)-1) if zsmooth[i]>zsmooth[i-1] and zsmooth[i]>zsmooth[i+1] and z[i]>zdatamean]\n",
    "tdatamaxs = [tdata[i] for i in idatamaxs]\n",
    "zdatamaxs = [zdata[i] for i in idatamaxs]\n",
    "zsmoothmaxs = [zsmooth[i] for i in idatamaxs]"
   ]
  },
  {
   "cell_type": "code",
   "execution_count": null,
   "metadata": {
    "colab": {
     "base_uri": "https://localhost:8080/",
     "height": 453
    },
    "id": "B_K_HVUqekP3",
    "outputId": "f89f59cc-5cc7-4427-c63b-1d399ad5224f"
   },
   "outputs": [],
   "source": [
    "plt.xlabel(\"$t$\")\n",
    "plt.ylabel(\"$z(t)$\")\n",
    "plt.plot(tsmooth,zsmooth,label='z',linestyle='-')\n",
    "plt.scatter(tdatamaxs,zdatamaxs,label='z',linestyle='-',c='b',s=10)\n",
    "plt.scatter(tdatamaxs,zsmoothmaxs,label='z',linestyle='-',c='r',s=10)\n",
    "plt.xlim(100,120)\n",
    "#plt.xlim(100,110)\n",
    "#plt.xlim(105,106)\n",
    "#plt.legend()\n",
    "plt.show()"
   ]
  },
  {
   "cell_type": "markdown",
   "metadata": {
    "id": "Ta6EnTs_vnX3"
   },
   "source": [
    "## Rta. 11)"
   ]
  },
  {
   "cell_type": "code",
   "execution_count": null,
   "metadata": {
    "colab": {
     "base_uri": "https://localhost:8080/",
     "height": 473
    },
    "id": "ZASfx6pzfpIc",
    "outputId": "6fd2c0b7-d778-4525-c8fc-69ecfacaa57d"
   },
   "outputs": [],
   "source": [
    "plt.title(\"C. Elegans: data\")\n",
    "plt.xlabel(\"$\\tilde{z}_t$\")\n",
    "plt.ylabel(\"$\\tilde{z}_{t+1}$\")\n",
    "plt.scatter(zdatamaxs[:-1],zdatamaxs[1:],label='z',linestyle='-')\n",
    "plt.plot([0,50],[0,50],c='r')\n",
    "plt.xlim(25,50)\n",
    "plt.ylim(25,50)\n",
    "#plt.legend()\n",
    "plt.show()"
   ]
  },
  {
   "cell_type": "code",
   "execution_count": null,
   "metadata": {
    "colab": {
     "base_uri": "https://localhost:8080/",
     "height": 473
    },
    "id": "szsjkBPo2blx",
    "outputId": "42272121-b98d-4810-8f11-46736e0e07a1"
   },
   "outputs": [],
   "source": [
    "plt.title(\"C. Elegans: smoothed\")\n",
    "plt.xlabel(\"$\\tilde{z}_t$\")\n",
    "plt.ylabel(\"$\\tilde{z}_{t+1}$\")\n",
    "plt.scatter(zsmoothmaxs[:-1],zsmoothmaxs[1:],label='z',linestyle='-')\n",
    "plt.plot([0,50],[0,50],c='r')\n",
    "plt.xlim(25,50)\n",
    "plt.ylim(25,50)\n",
    "#plt.legend()\n",
    "plt.show()"
   ]
  }
 ],
 "metadata": {
  "@webio": {
   "lastCommId": null,
   "lastKernelId": null
  },
  "colab": {
   "collapsed_sections": [],
   "name": "lorenz.ipynb",
   "provenance": []
  },
  "kernelspec": {
   "display_name": "Python 3 (ipykernel)",
   "language": "python",
   "name": "python3"
  },
  "language_info": {
   "codemirror_mode": {
    "name": "ipython",
    "version": 3
   },
   "file_extension": ".py",
   "mimetype": "text/x-python",
   "name": "python",
   "nbconvert_exporter": "python",
   "pygments_lexer": "ipython3",
   "version": "3.9.12"
  }
 },
 "nbformat": 4,
 "nbformat_minor": 1
}
