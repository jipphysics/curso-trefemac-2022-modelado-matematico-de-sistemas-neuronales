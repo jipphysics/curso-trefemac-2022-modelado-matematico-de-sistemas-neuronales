{
 "cells": [
  {
   "cell_type": "markdown",
   "metadata": {
    "id": "Y0uRRG0dbhmT"
   },
   "source": [
    "# Practico 3: Modelo de Hodgkin–Huxley\n",
    "\n",
    "## Parte 1: implementación\n",
    "\n",
    "**1)** Usando la sección de teoría (ver debajo) y las referencias, implemente el modelo de Hodgkin y Huxley. Para ello, tenga en cuenta que proveemos de un integrador numérico de ODEs tipo Runge-Kutta de orden 4.\n",
    "\n",
    "**2)** Grafique los valores de equilibrio de las distintas fracciones de compuertas abiertas $n_{\\infty}$, $m_{\\infty}$ y $h_{\\infty}$, en función de la diferencia de potencial de membrana $v$.\n",
    "\n",
    "**3)** Grafique los tiempos característicos $\\tau_m$, $\\tau_n$ y $\\tau_h$ asociados a los distintos tipos de compuerta, en función de la diferencia de potencial de membrana $v$.\n",
    "\n",
    "## Parte 2: valores de equilibrio\n",
    "\n",
    "**4)** Integre el sistema de ODEs del modelo de Hodgkin y Huxley sujeto a una corriente total $i(t)=0$ para todo $t$. Use la condición inicial $v_0=0mV$, $n_0=m_0=h_0=0$ y $t_0=0ms$. Integre hasta el tiempo final $t_f=500ms$ usando un paso temporal $dt=0.01ms$.\n",
    "\n",
    "**5)** Grafique las diferentes corrientes de iones cruzando la membrana en función del tiempo, i.e. grafique  la corriente de iones de sodio $i_{Na}(t)$, la corriente de iones de potasio $i_K(t)$ y la corriente de pérdida $i_l(t)$ vs el tiempo $t$ en el rango calculado. \n",
    "\n",
    "**6)** Estime y almacene los valores de equilibrio a corriente nula de las variables dinámicas usando los valores de las mismas obtenidos a tiempos largos. Es decir, almacene los valores $v^* \\approx v(t_f)$, $n^* \\approx n(t_f)$, $m^* \\approx m(t_f)$ y $h^* \\approx h(t_f)$, para ser utilizado como condiciones iniciales en futuras integraciones de las ODEs del modelo de Hodgkin y Huxley. \n",
    "\n",
    "## Parte 3: estímulo débil y estímulo fuerte\n",
    "\n",
    "**7)** Implemente una función de corriente de entrada o membrana dada por:\n",
    "\n",
    "$$\n",
    "i(t) = \\left\\{\n",
    "\\begin{array}{ll}\n",
    "10 \\mu A/cm^2, & t\\in [2ms,2.5ms] \\\\\n",
    "30 \\mu A/cm^2, & t\\in [10ms,10.5ms] \\\\\n",
    "0 \\mu A/cm^2, & c.c. \\\\\n",
    "\\end{array}\n",
    "\\right.\n",
    "$$\n",
    "\n",
    "Aquí, $c.c.$ indica *en caso contrario*. Esta corriente representa un estímulo débil seguido de uno fuerte. Grafíque la corriente $i(t)$ vs $t$ en el rango $t\\in[]$.\n",
    "\n",
    "**8)** Integre nuevamente el sistema de ODEs del modelo de Hodgkin y Huxley sujeto a la corriente del inciso **4)**. Use como condición inicial a tiempo $t=0$ los valores de equilibrio estimados en el inciso **6)**. Integre hasta el tiempo final $t_f=500ms$ usando un paso temporal $dt=0.01ms$.\n",
    "\n",
    "**9)** Grafique el potencial de membrana en función del tiempo, i.e. $v(t)$ vs $t$ en el rango calculado.\n",
    "\n",
    "**10)** Grafique la evolución de las variables de activación $n(t)$, $m(t)$ y $h(t)$ vs $t$.\n",
    "\n",
    "**11)** Discuta como responde la neurona en el primer impulso a $t=2ms$. Luego, como responde al segundo impulso a $t=10ms$. Existe una diferencia? Explique.\n",
    "\n",
    "## Parte 4: ráfaga\n",
    "\n",
    "**12)** Implemente la corriente de membrana\n",
    "\n",
    "$$\n",
    "i(t) = \\left\\{\n",
    "\\begin{array}{ll}\n",
    "10 \\mu A/cm^2, & t\\in [5ms,\\infty ms) \\\\\n",
    "0 \\mu A/cm^2, & c.c. \\\\\n",
    "\\end{array}\n",
    "\\right.\n",
    "$$\n",
    "\n",
    "Esta corriente representa un estímulo constante.\n",
    "\n",
    "**13)** Integre nuevamente las ODEs para $t\\in[0ms,100ms]$, usando como condición incial los valores de equilibrio derivados en el inciso **6)** y un paso de integración $dt=0.01$.\n",
    "\n",
    "**14)** Grafique nuevamente el potencial de membrana en el rango de tiempos calculado.\n",
    "\n",
    "**15)** Grafique nuevamente los valores de activación en el rango calculado.\n",
    "\n",
    "**16)** Discuta lo que observa y explique.\n",
    "\n",
    "## Parte 5: período refractario\n",
    "\n",
    "**17)** Implemente la corriente de membrana\n",
    "\n",
    "$$\n",
    "i(t) = \\left\\{\n",
    "\\begin{array}{ll}\n",
    "10 \\mu A/cm^2, & t\\in [10ms\\, k,10 ms\\, k + 2ms], k \\in \\{1,2,3,4,5,...\\}\\\\\n",
    "0 \\mu A/cm^2, & c.c. \\\\\n",
    "\\end{array}\n",
    "\\right.\n",
    "$$\n",
    "\n",
    "**18)** Integre nuevamente las ODEs para $t\\in[0ms,100ms]$, usando la corriente del inciso **12)**, la condición incial los valores de equilibrio derivados en el inciso **6)** y un paso de integración $dt=0.01$.\n",
    "\n",
    "**19)** Grafique nuevamente el potencial de membrana en el rango de tiempos calculado.\n",
    "\n",
    "**20)** Grafique nuevamente los valores de activación en el rango calculado.\n",
    "\n",
    "**21)** Discuta lo que observa y explique.\n",
    "\n",
    "## Parte 6: exitaciones espontáneas en respuesta al ruido\n",
    "\n",
    "**22)** Implemente una corriente estocástica que retorne un valor $i(t)\\sim i_0 N(0,1)$ (i.e. $i_0$ por un valor aleatorio obtenido de una distribución normal de media 0 y varianza 1) para cada valor de $t$ en el que sea evaluada.\n",
    "\n",
    "**23)** Integre nuevamente las ODEs para $t\\in[0ms,500ms]$, usando la corriente del inciso **22)** para $i_0=50\\mu A$, la condición incial los valores de equilibrio derivados en el inciso **6)** y un paso de integración $dt=0.01$.\n",
    "\n",
    "**24)** Grafique nuevamente el potencial de membrana en el rango de tiempos calculado.\n",
    "\n",
    "**25)** Grafique nuevamente los valores de activación en el rango calculado.\n",
    "\n",
    "**26)** Observa picos de activación cada tanto? Aparecen con regularidad? Estime con que frecuencia observa los picos.\n",
    "\n",
    "**27)** Como depende la frecuencia estimada con el nivel del ruido? Para responder esta pregunta, repita el experimento numérico utilizando $i_0=100\\mu A$. Explique."
   ]
  },
  {
   "cell_type": "markdown",
   "metadata": {
    "id": "CuENGa7jbhma"
   },
   "source": [
    "## Teoría\n",
    "\n",
    "### Las neuronas son capacitores\n",
    "\n",
    "Según el modelo de Hodgkin y Huxley, a primera vista las neuronas funcionan como capacitores evidenciando una diferencia de potencial eléctrico entre el exterior y el interior debido a las diferentes concentraciones de cargas iónicas que pueden existir entre estas dos regiones.\n",
    "En el esquema, se utilizan agujas muy finas para inyectar una corriente iónica $i$ al interior de una neurona sumergida en una solución salina conductora.\n",
    "\n",
    "![](esquema1.png \"\")\n",
    "\n",
    "Recordemos que un capacitor sujeto a una diferencia de potencial $v:=v_A-v_B$ adquiere una carga $q=cv$.\n",
    "La carga crece según $\\dot{q}=i$.\n",
    "\n",
    "![](circuito1.png \"\")\n",
    "\n",
    "### Las neuronas son capacitores con fugas\n",
    "\n",
    "Si miramos un poco más en detalle, veremos que la membrana de las neuronas tienen canales por donde pueden circular iones.\n",
    "Podemos pensar a los canales como agujeritos en la membrana por donde la carga se fuga.\n",
    "En otras palabras, podemos pensar a los canales como a una resistencia conectada en paralelo al capacitor.\n",
    "\n",
    "![](circuito2.png \"\")\n",
    "\n",
    "La corriente $i_g=g(v_A-v_B)=gv$.\n",
    "\n",
    "### Las neuronas son baterias\n",
    "\n",
    "Los canales pueden ser selectivos.\n",
    "Por ejemplo, algunos canales sólo dejan pasar los iones $K^+$.\n",
    "Por ende, si inyectemos al interior de la neurona una mezcla de iones $K^+$ y $Cl^-$, de manera que la carga total se encuentre equilibrada, los iónes $K^+$ comenzarán a difundir desde el interior hacia el exterior a travéz de los canales selectivos, mientras que los de $Cl^-$ se quedarán en el interior.\n",
    "Esto generará un creciente excedente de cargas negativas en el interior y positivas en el exterior, hasta alcanzar un estado de equilibrio en donde la corriente de iones $K^+$ provocada por la difusión se contrabalancea a una corriente en dirección opuesta generada por la diferencia de potencial emergente.\n",
    "\n",
    "![](baterias.png \"\")\n",
    "\n",
    "Este potencial se llama potencial de Nernst o de reversión y se lo incorpora al circuito que modela la neurona como una batería conectada en serie a la resistencia asociada a cada canal\n",
    "\n",
    "![](circuito3.png \"\")\n",
    "\n",
    "Ahora, la corriente $i_g=g(v_A-v_C)=g(v_A-(v_B+e_g))=g(v_A-v_B-e_g)=g(v-e_g)=:g(v-v_g)$, donde en la última iguadad reconocemos la definición del potencial de Nernst $v_g$.\n",
    "\n",
    "Si la batería se encuentra en sentido inverso\n",
    "\n",
    "![](circuito4.png \"\")\n",
    "\n",
    "entonces $i_g=g(v_A-v_C)=g(v_A-(v_B-e_g))=g(v_A-v_B+e_g)=g(v+e_g)=:g(v-v_g)$, por lo que el potencial de Nernst resulta negativo, $v_g=-e_g$.\n",
    "\n",
    "\n",
    "### Algunos canales forman reóstatos (resistencias de conductancia variable)\n",
    "\n",
    "Algunos canales tienen compuertas que se abren o cierran, permitiendo o impidiendo el paso de iones, respectivamente.\n",
    "\n",
    "![](compuertas.png \"\")\n",
    "\n",
    "La conductividad asociada a estos canales, depende de la fracción de compuertas abiertas en cada tipo de canal.\n",
    "Según el modelo, la conductancia total asociada a los canales de $Na$ se aproxima por\n",
    "\n",
    "$$g_{Na} = \\bar{g}_{Na}p_{Na}$$\n",
    "\n",
    "donde $\\bar{g}_{Na}$ es la conductancia de $Na$ máxima posible y \n",
    "\n",
    "$$p_{Na} = m^3h$$\n",
    "\n",
    "es la fracción de canales de $Na$ abiertos.\n",
    "Aquí $m$ y $h$ son la fracciones de compuertas abiertas de tipos $m$ y $h$, respectivamente.\n",
    "Los canales de $Na$ poseen 3 compuertas de tipo $m$ y 1 de tipo $h$, de allí los exponentes.\n",
    "\n",
    "De manera similar, la conductancia asociada a los canales de $K$ se aproxima por\n",
    "\n",
    "$$g_{K} = \\bar{g}_{K}p_{K}$$\n",
    "\n",
    "donde $\\bar{g}_{K}$ es la conductancia de $K$ máxima posible,\n",
    "\n",
    "$$p_{K} = n^4$$\n",
    "\n",
    "es la fracción de canales de $K$ abiertos y $n$ es la fracción de compuertas abiertas de tipo-$n$.\n",
    "Cada canal de $K$ posee 4 compuertas de tipo $n$.\n",
    "\n",
    "Estas aproximaciones asumen que las compuertas abren o cierran de manera independiente, dependiendo de la diferencia de potencial de membrana existente $v$.\n",
    "Más precisamente, las fracciones de compuertas abiertas de cada tipo satisfacen\n",
    "\n",
    "\\begin{eqnarray}\n",
    "\\dot{n}&=&\\alpha_n(v)(1-n)-\\beta_n(v) n\\\\\n",
    "\\dot{m}&=&\\alpha_m(v)(1-m)-\\beta_m(v) m\\\\\n",
    "\\dot{h}&=&\\alpha_h(v)(1-h)-\\beta_h(v) h\n",
    "\\end{eqnarray}\n",
    "\n",
    "donde\n",
    "\n",
    "\\begin{eqnarray}\n",
    "\\alpha_h(v)&=&\\frac{0.07}{ms\\,mV}\\,\\exp\\bigg(-\\frac{v}{20\\,mV}\\bigg)\\\\\n",
    "\\alpha_m(v)&=&\\frac{0.1}{ms\\,mV}\\frac{25\\,mV-v}{\\exp\\big(\\frac{25\\,mV-v}{10\\,mV}\\big)-1}\\\\\n",
    "\\alpha_n(v)&=&\\frac{0.01}{ms\\,mV}\\frac{10\\,mV-v}{\\exp\\big(\\frac{10\\,mV-v}{10\\,mV}\\big)-1}\\\\\n",
    "\\end{eqnarray}\n",
    "\n",
    "representan las tasas a las cuales las compuertas cerradas de cada tipo abren y\n",
    "\n",
    "\\begin{eqnarray}\n",
    "\\alpha_h(v)&=&\\frac{0.07}{ms\\,mV}\\,\\exp\\bigg(-\\frac{v}{20\\,mV}\\bigg)\\\\\n",
    "\\alpha_m(v)&=&\\frac{0.1}{ms\\,mV}\\frac{25\\,mV-v}{\\exp\\big(\\frac{25\\,mV-v}{10\\,mV}\\big)-1}\\\\\n",
    "\\alpha_n(v)&=&\\frac{0.01}{ms\\,mV}\\frac{10\\,mV-v}{\\exp\\big(\\frac{10\\,mV-v}{10\\,mV}\\big)-1}\\\\\n",
    "\\beta_h(v)&=&\\frac{1}{ms}\\frac{1}{\\exp\\big(\\frac{30\\,mV-v}{10\\,mV}\\big)+1}\\\\\n",
    "\\beta_m(v)&=&\\frac{4}{ms}\\exp\\bigg(-\\frac{v}{18\\,mV}\\bigg)\\\\\n",
    "\\beta_n(v)&=&\\frac{0.125}{ms}\\exp\\bigg(-\\frac{v}{80\\,mV}\\bigg)\n",
    "\\end{eqnarray}\n",
    "\n",
    "representan las tasas a las cuales las compuertas abiertas de cada tipo cierran, respectivamente.\n",
    "\n",
    "En resumen, al modelo de neurona de Hodgkin y Huxley se lo puede representar por el circuito\n",
    "\n",
    "![](circuito5.png \"\")\n",
    "\n",
    "en donde reconocemos la existencia de 3 canales iónicos: uno de pérdida (leak) de conductancia constante $g_l$, potencial de Nernst $v_l=e_l$ y por el que fluye una corriente $i_l$, uno de $Na$ de conductancia variable $g_{Na}$, potencial de Nernst $v_{Na}=e_{Na}$ y por el que fluye una corriente $i_{Na}$, y uno de $K$ de conductancia $g_K$, potencial de Nernst $v_K=-e_K$ y por el que fluye una corriente $i_K$.\n",
    "\n",
    "Aplicando la ley de Kirchoff para corrientes, vemos que\n",
    "\n",
    "$$i=i_{Na}+i_K+i_l+i_c$$\n",
    "\n",
    "Es decir, la corriente $i$ inyectada al interior de la neurona se divide en dos partes.\n",
    "Por un lado, en la corriente $i_m=i_{Na}+i_K+i_l$ que fluye a travéz de los canales en la membrana,\n",
    "y por otro lado, en la corriente $i_c$ que carga el capacitor.\n",
    "\n",
    "Remplazando, obtenemos una ODE para el potencial de membrana\n",
    "\n",
    "\\begin{eqnarray}\n",
    "i_c&=&i-i_{Na}+i_K+i_l\\\\\n",
    "c\\dot{v}&=&i-g_{Na}(v-v_{Na})-g_{K}(v-v_{K})-g_{l}(v-v_{l})\\\\\n",
    "\\dot{v}&=&c^{-1}(i-\\bar{g}_{Na}m^3h(v-v_{Na})-\\bar{g}_{K}n^4(v-v_{K})-g_{l}(v-v_{l}))\n",
    "\\end{eqnarray}\n",
    "\n",
    "La última línea de la anterior ecuación, junto con las ODEs anteriormente mencionadas para $n$, $m$ y $h$, determinan el sistema de ODEs del modelo de Hodgkin y Huxley.\n",
    "\n",
    "### Comportamiento cualitativo\n",
    "\n",
    "Durante el proceso de disparo, diferentes compuertas se abren y cierran a diferentes tiempos.\n",
    "El siguiente esquema resume el proceso en 4 etapas\n",
    "\n",
    "![](channels.png \"\")\n",
    "\n",
    "Estimaciones de los tiempos carácterísticos y valores de equilibrio del comportamiento de las compuertas observado en las diferentes etapas se pueden obtener de reescribir las ODEs para $n$, $m$ y $h$ de la forma\n",
    "\n",
    "\\begin{eqnarray}\n",
    "\\dot{n}&=&\\tau_n^{-1}(v)(n_{\\infty}(v)-n)\\\\\n",
    "\\dot{m}&=&\\tau_m^{-1}(v)(m_{\\infty}(v)-m)\\\\\n",
    "\\dot{h}&=&\\tau_h^{-1}(v)(h_{\\infty}(v)-h)\n",
    "\\end{eqnarray}\n",
    "\n",
    "donde \n",
    "\n",
    "\\begin{eqnarray}\n",
    "\\tau_n(v)&=&(\\alpha_n(v)+\\beta_n(v))^{-1}\\\\\n",
    "\\tau_m(v)&=&(\\alpha_m(v)+\\beta_m(v))^{-1}\\\\\n",
    "\\tau_h(v)&=&(\\alpha_h(v)+\\beta_h(v))^{-1}\n",
    "\\end{eqnarray}\n",
    "\n",
    "y\n",
    "\n",
    "\\begin{eqnarray}\n",
    "n_{\\infty}(v)&=&\\tau_n(v)\\alpha_n(v)\\\\\n",
    "m_{\\infty}(v)&=&\\tau_m(v)\\alpha_m(v)\\\\\n",
    "h_{\\infty}(v)&=&\\tau_h(v)\\alpha_h(v)\n",
    "\\end{eqnarray}\n",
    "\n",
    "Finalmente, listamos los valores de los parámetros del modelo (ver libro de Izhikevich)\n",
    "\n",
    "* $c=1\\,\\mu F/cm^2$ : capacitancia de membrana\n",
    "* $\\bar{g}_{Na}=120\\,mS/cm^2$ : conductancia máxima de Na\n",
    "* $\\bar{g}_K=36\\,mS/cm^2$ : conductancia máxima de K\n",
    "* $g_l=0.3\\,mS/cm^2$ : conductancia máxima de perdida\n",
    "* $v_{Na}=120\\,mV$ : potencial de reversión de la corriente de Na\n",
    "* $v_K=-12\\,mV$ : potencial de reversión de la corriente de K\n",
    "* $v_l=10.6\\,mV$ : potencial de reversión de la corriente de perdida\n",
    "* $i(t)\\sim 10\\,\\mu A/cm^2$ : corriente de entrada al tiempo $t$\n",
    "* $t \\sim 5\\,ms$ : tiempo\n",
    "\n",
    "Aclaración, los valores de los potenciales de Nernst se toman en referencia al potencial de equilibrio definido en $v\\approx 0\\, mV$."
   ]
  },
  {
   "cell_type": "markdown",
   "metadata": {
    "id": "DweT-9nMbhmW"
   },
   "source": [
    "### Refs.\n",
    "\n",
    "[1] Eugene M. Izhikevich, *Dynamical Systems in Neuroscience: The Geometry of Excitability and Bursting*. Computational Neuroscience, The MIT Press, 1 edition (2006)\n",
    "\n",
    "[2] https://github.com/amasky/hodgkin-huxley-model\n",
    "\n",
    "[3] https://ocw.mit.edu/courses/brain-and-cognitive-sciences/9-40-introduction-to-neural-computation-spring-2018/index.htm\n",
    "\n",
    "[4] https://www.youtube.com/playlist?list=PLUl4u3cNGP61I4aI5T6OaFfRK2gihjiMm\n",
    "\n",
    "[5] https://www.mathcha.io/editor (app online para generar graficos con tikz)"
   ]
  },
  {
   "cell_type": "code",
   "execution_count": null,
   "metadata": {
    "id": "E4BmG7O2bhmX"
   },
   "outputs": [],
   "source": [
    "import numpy as np"
   ]
  },
  {
   "cell_type": "code",
   "execution_count": null,
   "metadata": {
    "id": "BPfkrb521gck"
   },
   "outputs": [],
   "source": [
    "LATEX = True\n",
    "import matplotlib.pyplot as plt\n",
    "if LATEX:\n",
    "    import matplotlib\n",
    "    if 'google.colab' in str(get_ipython()):\n",
    "        print('Running on CoLab')\n",
    "        matplotlib.rc('text', usetex=True)\n",
    "        matplotlib.rcParams['text.latex.preamble'] = [r'\\usepackage{amsmath}']        \n",
    "        !apt install texlive-fonts-recommended texlive-fonts-extra cm-super dvipng    \n",
    "    else:\n",
    "        print('Not running on CoLab') \n",
    "        matplotlib.rc('text', usetex=False)\n",
    "        matplotlib.rcParams['text.latex.preamble'] = [r'\\usepackage{amsmath}']        \n",
    "# %matplotlib inline"
   ]
  },
  {
   "cell_type": "code",
   "execution_count": null,
   "metadata": {
    "id": "KHLrtluvbhmY"
   },
   "outputs": [],
   "source": [
    "def rk4(f,x,t,h,p):\n",
    "    \"\"\"\n",
    "    Calcula un paso de integración del método de Runge Kutta orden 4.\n",
    "    \n",
    "    Argumentos de entrada:\n",
    "    \n",
    "        f : R^n -> R^n\n",
    "        x = x(t) : R^n\n",
    "        t = tiempo : R\n",
    "        h = paso de tiempo : R\n",
    "        p = parametros : R^q        \n",
    "        \n",
    "    Retorna aproximacion numérica de\n",
    "    \n",
    "        x(t+h) : R^n\n",
    "\n",
    "    # Ejemplos:\n",
    "    \"\"\"    \n",
    "    k1 = f(x,t,p)\n",
    "    k2 = f(x+0.5*h*k1,t+0.5*h,p)\n",
    "    k3 = f(x+0.5*h*k2,t+0.5*h,p)\n",
    "    k4 = f(x+h*k3,t+h,p)\n",
    "    \n",
    "    return x+h*(k1+2.0*k2+2.0*k3+k4)/6.0"
   ]
  },
  {
   "cell_type": "code",
   "execution_count": null,
   "metadata": {
    "id": "_p4330nwbhmZ"
   },
   "outputs": [],
   "source": [
    "def integrador_ode(m,f,x0,a,b,k,p):\n",
    "    \"\"\"\n",
    "    Integra numéricamente la ODE\n",
    "    \n",
    "        dx/dt = f(x,t)\n",
    "        \n",
    "    sobre el intervalo t:[a,b] usando k pasos de integración y el método m, bajo condicion inicial x(a)=x0.\n",
    "    No es necesario que a<b.\n",
    "    \n",
    "    Argumentos de entrada:\n",
    "    \n",
    "        m = metodo de integracion (ej. euler, rk2, etc.)\n",
    "        f : R^n -> R^n\n",
    "        x0 = condicion inicial : R^n\n",
    "        a = tiempo inicial : R\n",
    "        b = tiempo final : R\n",
    "        k = num. pasos de integracion : N\n",
    "        p = parametros : R^q\n",
    "    \n",
    "    Retorna:\n",
    "    \n",
    "        t : R^{k+1} , t_j = a+j*h para j=0,1,...,k\n",
    "        x : R^{n,k+1} , x_ij = x_i(t_j) para i=0,1,...,n-1 y j=0,1,...,k\n",
    "        \n",
    "    donde a+k*dt = b.\n",
    "    \"\"\"  \n",
    "    assert k>0\n",
    "    n = len(x0)\n",
    "    h = (b-a)/k\n",
    "    x = np.zeros((n,k+1)) # Produce un array con forma y tipo especificada con los parametros, \n",
    "                          # lleno de ceros. la forma puede ser espcificada con un entero o tupla (n,k+1)    \n",
    "    t = np.zeros(k+1)\n",
    "    x[:,0] = x0           # actualiza la posicion inicial (columna de indice 0) de las variables con los valores \n",
    "                          # de las condiciones iniciales\n",
    "    t[0] = a              # actualiza la posicion cero con el valor del tiempo inicial\n",
    "    \n",
    "    for j in range(k):    #Aca se produce la iteración en j \n",
    "        \n",
    "        t[j+1] = t[j] + h   # iteracion tiempo \n",
    "        x[:,j+1] = m(f,x[:,j],t[j],h,p) # iteracion de x \n",
    "        \n",
    "    return t,x"
   ]
  },
  {
   "cell_type": "markdown",
   "metadata": {},
   "source": [
    "## Parte 1: implementación"
   ]
  },
  {
   "cell_type": "code",
   "execution_count": null,
   "metadata": {
    "id": "HPlPiwifbhmc"
   },
   "outputs": [],
   "source": [
    "# Definamos las tasas de apertura y cierre de las diferentes compuertas.\n",
    "def alpha_n(v):\n",
    "    return 0.01*(10.0-v)/(np.exp((10.0-v)/10.0)-1.0)\n",
    "def alpha_m(v):\n",
    "    return 0.1*(25.0-v)/(np.exp((25.0-v)/10.0)-1.0)\n",
    "def alpha_h(v):\n",
    "    return 0.07*np.exp(-v/20.0)\n",
    "def beta_n(v): \n",
    "    return 0.125*np.exp(-v/80.0)  \n",
    "def beta_m(v):\n",
    "    return 4.0*np.exp(-v/18.0)\n",
    "def beta_h(v):\n",
    "    return 1.0/(np.exp((30.0-v)/10.0)+1.0)"
   ]
  },
  {
   "cell_type": "code",
   "execution_count": null,
   "metadata": {
    "id": "bFZ_Uc1Pbhmc"
   },
   "outputs": [],
   "source": [
    "# ...y los correspondientes tiempos característicos y valores de equilibrio.\n",
    "def tau_n(v): \n",
    "    return 1.0/(alpha_n(v)+beta_n(v))\n",
    "def tau_m(v): \n",
    "    return 1.0/(alpha_m(v)+beta_m(v))\n",
    "def tau_h(v): \n",
    "    return 1.0/(alpha_h(v)+beta_h(v))\n",
    "def n_inf(v): \n",
    "    return alpha_n(v)*tau_n(v)\n",
    "def m_inf(v): \n",
    "    return alpha_m(v)*tau_m(v)\n",
    "def h_inf(v): \n",
    "    return alpha_h(v)*tau_h(v)"
   ]
  },
  {
   "cell_type": "code",
   "execution_count": null,
   "metadata": {
    "colab": {
     "base_uri": "https://localhost:8080/",
     "height": 315
    },
    "id": "vfKBFCCobhmd",
    "outputId": "2e9577bb-5303-4b4e-95f0-b4076ecde8c5"
   },
   "outputs": [],
   "source": [
    "# Graficamos los valores de equilibrio de las distintas fracciones de compuertas abiertas.\n",
    "plt.xlabel('$v$ (mV)')\n",
    "#plt.ylabel('$n,m,h$')\n",
    "plt.xlim(-50,120)\n",
    "plt.ylim(-0.1,1.1)\n",
    "v=np.linspace(-50,120,1000)\n",
    "plt.plot(v,0*v,label=\"\",linestyle='--',c='gray')\n",
    "plt.plot(v,0*v+1,label=\"\",linestyle='--',c='gray')\n",
    "plt.plot(v,np.vectorize(n_inf)(v),label=\"$n_{\\\\infty}$\",c='orange')\n",
    "plt.plot(v,np.vectorize(m_inf)(v),label=\"$m_{\\\\infty}$\",c='green')\n",
    "plt.plot(v,np.vectorize(h_inf)(v),label=\"$h_{\\\\infty}$\",c='cyan')\n",
    "plt.title('Valores de equilibrio de las distintas fracciones de compuertas abiertas')\n",
    "plt.legend()"
   ]
  },
  {
   "cell_type": "code",
   "execution_count": null,
   "metadata": {
    "colab": {
     "base_uri": "https://localhost:8080/",
     "height": 315
    },
    "id": "Jlmkr_fwbhmd",
    "outputId": "32fe11de-a967-4da2-b079-ff8e32da50c4"
   },
   "outputs": [],
   "source": [
    "# Graficamos los tiempos característicos\n",
    "plt.xlabel('$v$ (mV)')\n",
    "plt.ylabel('$\\\\tau$ (ms)')\n",
    "plt.xlim(-50,120)\n",
    "#plt.ylim(-0.1,1.1)\n",
    "v=np.linspace(-50,120,1000)\n",
    "plt.plot(v,0*v,label=\"\",linestyle='--',c='gray')\n",
    "plt.plot(v,np.vectorize(tau_n)(v),label=\"$\\\\tau_n$\",c='orange')\n",
    "plt.plot(v,np.vectorize(tau_m)(v),label=\"$\\\\tau_m$\",c='green')\n",
    "plt.plot(v,np.vectorize(tau_h)(v),label=\"$\\\\tau_h$\",c='cyan')\n",
    "plt.title('Tiempos característicos')\n",
    "plt.legend()"
   ]
  },
  {
   "cell_type": "code",
   "execution_count": null,
   "metadata": {
    "id": "mwuUBh52bhme"
   },
   "outputs": [],
   "source": [
    "# Implementamos el lado derecho de la ODE.\n",
    "\n",
    "def ina(x,p):\n",
    "    v = x[0]\n",
    "    m = x[2]\n",
    "    h = x[3]    \n",
    "    gna = p[1]\n",
    "    vna = p[4]\n",
    "    return gna*(v-vna)*m**3*h\n",
    "\n",
    "def ik(x,p):\n",
    "    v = x[0]\n",
    "    n = x[1]\n",
    "    gk = p[2]\n",
    "    vk = p[5]\n",
    "    return gk*(v-vk)*n**4\n",
    "\n",
    "def il(x,p):\n",
    "    v = x[0]    \n",
    "    gl = p[3]\n",
    "    vl = p[6]\n",
    "    return gl*(v-vl)\n",
    "\n",
    "def f(x,t,p):\n",
    "    \"\"\"\n",
    "    x[0] = v(t)    : potencial de membrana\n",
    "    x[1] = n(t)    : activacion de K\n",
    "    x[2] = m(t)    : activacion de Na\n",
    "    x[3] = h(t)    : inactivacion de Na \n",
    "    t              : tiempo (ms)\n",
    "    p[0] = c       : capacitancia de membrana (microF/cm**2)\n",
    "    p[1] = gna     : conductancia máxima de Na (mS/cm**2)\n",
    "    p[2] = gk      : conductancia máxima de K (mS/cm**2)    \n",
    "    p[3] = gl      : conductancia máxima de perdida (mS/cm**2)\n",
    "    p[4] = vna     : potencial de Nernst de K (mV)\n",
    "    p[5] = vk      : potencial de Nernst Na (mV)\n",
    "    p[6] = vl      : potencial de Nernst de la corriente de pérdida (mV)\n",
    "    p[7] = t->i(t) : función corriente de entrada (microA/cm**2)\n",
    "    Retorna [dv/dt,dn/dt,dm/dt,dh/dt]\n",
    "    \"\"\"\n",
    "    v = x[0]\n",
    "    n = x[1]\n",
    "    m = x[2]\n",
    "    h = x[3]\n",
    "    c = p[0]\n",
    "    #gna = p[1]\n",
    "    #gk  = p[2]    \n",
    "    #gl  = p[3]\n",
    "    #vna = p[4]\n",
    "    #vk  = p[5]    \n",
    "    #vl  = p[6]\n",
    "    i   = p[7]\n",
    "    return np.array([\n",
    "        (i(t)-ina(x,p)-ik(x,p)-il(x,p))/c,\n",
    "        alpha_n(v)*(1.0-n)-beta_n(v)*n,\n",
    "        alpha_m(v)*(1.0-m)-beta_m(v)*m,\n",
    "        alpha_h(v)*(1.0-h)-beta_h(v)*h,\n",
    "    ])"
   ]
  },
  {
   "cell_type": "code",
   "execution_count": null,
   "metadata": {
    "id": "owsM1LvYbhme"
   },
   "outputs": [],
   "source": [
    "# Definimos parámetros\n",
    "c = 1.        \n",
    "gna = 120.\n",
    "gk = 36.      \n",
    "gl = 0.3      \n",
    "vna = 120.0   \n",
    "vk = -12.0\n",
    "vl = 10.6     "
   ]
  },
  {
   "cell_type": "markdown",
   "metadata": {
    "id": "LZbtLy5tbhmf"
   },
   "source": [
    "## Parte 2: equilibrio"
   ]
  },
  {
   "cell_type": "code",
   "execution_count": null,
   "metadata": {
    "id": "CAcUEjR4bhme"
   },
   "outputs": [],
   "source": [
    "# Definimos condiciones iniciales preliminares.\n",
    "v0 = 0.0\n",
    "n0 = 0.0\n",
    "m0 = 0.0\n",
    "h0 = 0.0\n",
    "x0 = np.array([v0,h0,m0,n0])"
   ]
  },
  {
   "cell_type": "code",
   "execution_count": null,
   "metadata": {
    "id": "97m-4YGzbhmf"
   },
   "outputs": [],
   "source": [
    "# Integramos unos cuantos ms a corriente i=0 para determinar el punto de equilibrio del sistema.\n",
    "v0 = 0.0 # membrane potential (mV)\n",
    "n0 = 0.0 # K channel activation (dimensionless)\n",
    "m0 = 0.0 # Na channel activation (dimensionless)\n",
    "h0 = 0.0 # Na channel inactivation (dimensionless)\n",
    "tini = 0 # ms\n",
    "tend = 500 # ms\n",
    "h = 0.01 # ms\n",
    "k = int((tend-tini)/h) \n",
    "p = [c,gna,gk,gl,vna,vk,vl,lambda t:0]\n",
    "x0 = np.array([v0,h0,m0,n0])\n",
    "t,x = integrador_ode(rk4,f,x0,tini,tend,k,p) #aca integra\n",
    "x0=x[:,-1] # guardamos el valor de equilibrio (i.e. a tiempos largos) para usarlo como condición inicial en futuras integraciones"
   ]
  },
  {
   "cell_type": "code",
   "execution_count": null,
   "metadata": {
    "colab": {
     "base_uri": "https://localhost:8080/"
    },
    "id": "m3LtOAgxbhmg",
    "outputId": "8fa0cd9d-1de4-4cf3-f743-1f44a61b6dd2"
   },
   "outputs": [],
   "source": [
    "ina(x0,p),ik(x0,p),il(x0,p)"
   ]
  },
  {
   "cell_type": "code",
   "execution_count": null,
   "metadata": {
    "colab": {
     "base_uri": "https://localhost:8080/"
    },
    "id": "oDPKqzgTbhmg",
    "outputId": "65df6e1a-e9e9-445e-cf50-cfe69432bd5b"
   },
   "outputs": [],
   "source": [
    "x0[0],x0[1],x0[2],x0[3]"
   ]
  },
  {
   "cell_type": "code",
   "execution_count": null,
   "metadata": {
    "colab": {
     "base_uri": "https://localhost:8080/",
     "height": 315
    },
    "id": "nEKzNZVBbhmg",
    "outputId": "efc35f7d-face-468a-8626-c79ecd4bad6a"
   },
   "outputs": [],
   "source": [
    "# Graficamos el potencial de membrana\n",
    "plt.xlabel('$t$ (ms)')\n",
    "plt.ylabel('$v$ (mV)')\n",
    "plt.xlim(0,50)\n",
    "plt.ylim(-20,120)\n",
    "plt.plot(t,0*t,linestyle='--',c='gray')\n",
    "plt.plot(t,x[0],c='b')\n",
    "plt.title('Potencial de membrana')"
   ]
  },
  {
   "cell_type": "code",
   "execution_count": null,
   "metadata": {
    "colab": {
     "base_uri": "https://localhost:8080/",
     "height": 315
    },
    "id": "nEKzNZVBbhmg",
    "outputId": "efc35f7d-face-468a-8626-c79ecd4bad6a"
   },
   "outputs": [],
   "source": [
    "# Graficamos las corrientes\n",
    "plt.xlabel('$t$ (ms)')\n",
    "plt.ylabel('(microA)')\n",
    "plt.xlim(0,50)\n",
    "plt.ylim(-30,30)\n",
    "plt.plot(t,0*t,linestyle='--',c='gray')\n",
    "plt.plot(t,[ina(x[:,j],p) for j in range(len(t))],c='r',label='i_Na')\n",
    "plt.plot(t,[ik(x[:,j],p) for j in range(len(t))],c='g',label='i_K')\n",
    "plt.plot(t,[il(x[:,j],p) for j in range(len(t))],c='b',label='i_l')\n",
    "plt.legend()\n",
    "plt.title('Corrientes')"
   ]
  },
  {
   "cell_type": "code",
   "execution_count": null,
   "metadata": {},
   "outputs": [],
   "source": [
    "# Graficamos el nivel de activación de cada canal: n, m y h.\n",
    "plt.xlabel('$t$ (ms)')\n",
    "plt.xlim(0,50)\n",
    "plt.ylim(-0.1,1.1)\n",
    "plt.plot(t,0*t,label=\"\",linestyle='--',c='gray')\n",
    "plt.plot(t,0*t+1,label=\"\",linestyle='--',c='gray')\n",
    "plt.plot(t,x[1],label=\"n\",c='orange')\n",
    "plt.plot(t,x[2],label=\"m\",c='green')\n",
    "plt.plot(t,x[3],label=\"h\",c='cyan')\n",
    "plt.title('Variables de activación')\n",
    "plt.legend()"
   ]
  },
  {
   "cell_type": "markdown",
   "metadata": {},
   "source": [
    "## Parte 4: "
   ]
  },
  {
   "cell_type": "code",
   "execution_count": null,
   "metadata": {
    "id": "9hDQ_0L4bhmf"
   },
   "outputs": [],
   "source": [
    "# Definimos una corriente de membrana\n",
    "def i(t):\n",
    "    if t>=2.0 and t<=2.5:\n",
    "        return 10.0\n",
    "    elif t>=10.0 and t<=10.5:\n",
    "        return 30.0\n",
    "    else:\n",
    "        return 0.0"
   ]
  },
  {
   "cell_type": "code",
   "execution_count": null,
   "metadata": {
    "colab": {
     "base_uri": "https://localhost:8080/",
     "height": 315
    },
    "id": "_dCEo5q9bhmf",
    "outputId": "10312d38-761f-4014-a3f4-b5e00e5883ac"
   },
   "outputs": [],
   "source": [
    "# Graficamos corriente de membrana.\n",
    "plt.xlabel('$t$ (ms)')\n",
    "plt.ylabel('$i$ $\\mathrm{(\\mu/cm^2)}$')\n",
    "plt.xlim(-1,20)\n",
    "plt.ylim(-2,40)\n",
    "t = np.linspace(-1,30,1000)\n",
    "plt.plot(t,np.vectorize(i)(t),c='r')\n",
    "plt.title('Corriente de membrana')"
   ]
  },
  {
   "cell_type": "code",
   "execution_count": null,
   "metadata": {
    "id": "RDuQeIt2bhmg"
   },
   "outputs": [],
   "source": [
    "# Integramos desde el equilibrio con la corriente dependiente del tiempo definida anteriormente.\n",
    "tini = 0 # ms\n",
    "tend = 20 # ms\n",
    "h = 0.01 # ms\n",
    "k = int((tend-tini)/h) \n",
    "p = [c,gna,gk,gl,vna,vk,vl,i]\n",
    "t,x = integrador_ode(rk4,f,x0,tini,tend,k,p)"
   ]
  },
  {
   "cell_type": "code",
   "execution_count": null,
   "metadata": {
    "colab": {
     "base_uri": "https://localhost:8080/",
     "height": 315
    },
    "id": "ts1QBk2rbhmg",
    "outputId": "71e27eaf-fc0f-488e-e5b6-715dcb646cdd",
    "scrolled": true
   },
   "outputs": [],
   "source": [
    "# Graficamos el potencial de membrana\n",
    "plt.xlabel('$t$ (ms)')\n",
    "plt.ylabel('$v$ (mV)')\n",
    "plt.xlim(0,20)\n",
    "plt.ylim(-20,120)\n",
    "plt.plot(t,0*t,linestyle='--',c='gray')\n",
    "plt.plot(t,x[0],c='b')\n",
    "plt.title('Potencial de membrana')"
   ]
  },
  {
   "cell_type": "code",
   "execution_count": null,
   "metadata": {
    "colab": {
     "base_uri": "https://localhost:8080/",
     "height": 315
    },
    "id": "RB-9Dm-0bhmh",
    "outputId": "56303fc5-e13f-4f78-8822-d34b1d6487d8",
    "scrolled": true
   },
   "outputs": [],
   "source": [
    "# Graficamos el nivel de activación de cada canal: n, m y h.\n",
    "plt.xlabel('$t$ (ms)')\n",
    "plt.xlim(0,20)\n",
    "plt.ylim(-0.1,1.1)\n",
    "plt.plot(t,0*t,label=\"\",linestyle='--',c='gray')\n",
    "plt.plot(t,0*t+1,label=\"\",linestyle='--',c='gray')\n",
    "plt.plot(t,x[1],label=\"n\",c='orange')\n",
    "plt.plot(t,x[2],label=\"m\",c='green')\n",
    "plt.plot(t,x[3],label=\"h\",c='cyan')\n",
    "plt.title('Variables de activación')\n",
    "plt.legend()"
   ]
  },
  {
   "cell_type": "markdown",
   "metadata": {
    "id": "N84kNoECbhmh"
   },
   "source": [
    "## Parte 5: Ráfaga"
   ]
  },
  {
   "cell_type": "code",
   "execution_count": null,
   "metadata": {
    "id": "VS3Xbu0Mbhmh"
   },
   "outputs": [],
   "source": [
    "# Definimos la corriente de membrana\n",
    "def i(t):\n",
    "    if t>=5.0:\n",
    "        return 10.0\n",
    "    else:\n",
    "        return 0.0"
   ]
  },
  {
   "cell_type": "code",
   "execution_count": null,
   "metadata": {
    "colab": {
     "base_uri": "https://localhost:8080/",
     "height": 315
    },
    "id": "uZxCeTa9bhmh",
    "outputId": "196a6d68-ebca-442d-a7c0-3123c9dcb81f"
   },
   "outputs": [],
   "source": [
    "plt.xlabel('$t$ (ms)')\n",
    "plt.ylabel('$i$ $\\mathrm{(\\mu/cm^2)}$')\n",
    "plt.xlim(-1,100)\n",
    "t = np.linspace(-1,100,1000)\n",
    "plt.plot(t,np.vectorize(i)(t),c='r')\n",
    "plt.title('Corriente de membrana')"
   ]
  },
  {
   "cell_type": "code",
   "execution_count": null,
   "metadata": {
    "id": "JeOz8wqAbhmi"
   },
   "outputs": [],
   "source": [
    "# Integramos desde el equilibrio\n",
    "tini = 0 # ms\n",
    "tend = 100 # ms\n",
    "h = 0.01 # ms\n",
    "k = int((tend-tini)/h) \n",
    "p = [c,gna,gk,gl,vna,vk,vl,i]\n",
    "t,x = integrador_ode(rk4,f,x0,tini,tend,k,p)"
   ]
  },
  {
   "cell_type": "code",
   "execution_count": null,
   "metadata": {
    "colab": {
     "base_uri": "https://localhost:8080/",
     "height": 315
    },
    "id": "lxbHVZDhbhmi",
    "outputId": "21411928-d61c-4e75-e9fe-1fda1b0506d0"
   },
   "outputs": [],
   "source": [
    "# Graficamos potencial de membrana\n",
    "plt.xlabel('$t$ (ms)')\n",
    "plt.ylabel('$v$ (mV)')\n",
    "plt.xlim(0,100)\n",
    "plt.ylim(-20,120)\n",
    "plt.plot(t,0*t,linestyle='--',c='gray')\n",
    "plt.plot(t,x[0],c='b')\n",
    "plt.title('Potencial de membrana')"
   ]
  },
  {
   "cell_type": "code",
   "execution_count": null,
   "metadata": {
    "colab": {
     "base_uri": "https://localhost:8080/",
     "height": 315
    },
    "id": "pGvA7kyxbhmi",
    "outputId": "782bea28-4b71-469d-aa24-915ca63b2259"
   },
   "outputs": [],
   "source": [
    "# Graficamos activacion de canales\n",
    "plt.xlabel('$t$ (ms)')\n",
    "plt.xlim(0,100)\n",
    "plt.ylim(-0.1,1.1)\n",
    "plt.plot(t,0*t,label=\"\",linestyle='--',c='gray')\n",
    "plt.plot(t,0*t+1,label=\"\",linestyle='--',c='gray')\n",
    "plt.plot(t,x[1],label=\"n\",c='orange')\n",
    "plt.plot(t,x[2],label=\"m\",c='green')\n",
    "plt.plot(t,x[3],label=\"h\",c='cyan')\n",
    "plt.title('Variables de activación')\n",
    "plt.legend()"
   ]
  },
  {
   "cell_type": "markdown",
   "metadata": {
    "id": "fPcGrlJ5bhmi"
   },
   "source": [
    "## Parte 5: período refractario"
   ]
  },
  {
   "cell_type": "code",
   "execution_count": null,
   "metadata": {
    "id": "BCdfWz3Nbhmi"
   },
   "outputs": [],
   "source": [
    "def i(t):\n",
    "    for n in range(1,10):\n",
    "        if t>=10*n and t<=10*n+2:\n",
    "            return 10.0\n",
    "    return 0.0"
   ]
  },
  {
   "cell_type": "code",
   "execution_count": null,
   "metadata": {
    "colab": {
     "base_uri": "https://localhost:8080/",
     "height": 315
    },
    "id": "YfE-NA3obhmi",
    "outputId": "16f051f9-36d6-4c11-f546-79b058df7951"
   },
   "outputs": [],
   "source": [
    "plt.xlabel('$t$ (ms)')\n",
    "plt.ylabel('$i$ $\\mathrm{(\\mu/cm^2)}$')\n",
    "plt.xlim(-1,50)\n",
    "t = np.linspace(-1,100,1000)\n",
    "plt.plot(t,np.vectorize(i)(t),c='r')\n",
    "plt.title('Corriente de membrana')"
   ]
  },
  {
   "cell_type": "code",
   "execution_count": null,
   "metadata": {
    "id": "nmH5Qb8hbhmi"
   },
   "outputs": [],
   "source": [
    "tini = 0 # ms\n",
    "tend = 50 # ms\n",
    "h = 0.01 # ms\n",
    "k = int((tend-tini)/h) \n",
    "p = [c,gna,gk,gl,vna,vk,vl,i]\n",
    "t,x = integrador_ode(rk4,f,x0,tini,tend,k,p)"
   ]
  },
  {
   "cell_type": "code",
   "execution_count": null,
   "metadata": {
    "colab": {
     "base_uri": "https://localhost:8080/",
     "height": 315
    },
    "id": "-nHZxvhybhmj",
    "outputId": "4c1430c1-4057-4867-b1fc-8848b4a7bd2c"
   },
   "outputs": [],
   "source": [
    "plt.xlabel('$t$ (ms)')\n",
    "plt.ylabel('$v$ (mV)')\n",
    "plt.xlim(0,50)\n",
    "plt.ylim(-20,80)\n",
    "plt.plot(t,0*t,linestyle='--',c='gray')\n",
    "plt.plot(t,x[0],c='b')\n",
    "plt.title('Potencial de membrana')"
   ]
  },
  {
   "cell_type": "code",
   "execution_count": null,
   "metadata": {
    "colab": {
     "base_uri": "https://localhost:8080/",
     "height": 315
    },
    "id": "ZlSKZsZ0bhmj",
    "outputId": "0d86751f-d9d7-4689-b373-7f0b6b94bc24"
   },
   "outputs": [],
   "source": [
    "plt.xlabel('$t$ (ms)')\n",
    "plt.xlim(0,50)\n",
    "plt.ylim(-0.1,1.1)\n",
    "plt.plot(t,0*t,label=\"\",linestyle='--',c='gray')\n",
    "plt.plot(t,0*t+1,label=\"\",linestyle='--',c='gray')\n",
    "plt.plot(t,x[1],label=\"n\",c='orange')\n",
    "plt.plot(t,x[2],label=\"m\",c='green')\n",
    "plt.plot(t,x[3],label=\"h\",c='cyan')\n",
    "plt.title('Variables de activación')\n",
    "plt.legend()"
   ]
  },
  {
   "cell_type": "markdown",
   "metadata": {
    "id": "fuKBhMTBbhmj"
   },
   "source": [
    "## Parte 6: exitaciones espontáneas en respuesta al ruido"
   ]
  },
  {
   "cell_type": "code",
   "execution_count": null,
   "metadata": {
    "id": "rDt7X7NYbhmj"
   },
   "outputs": [],
   "source": [
    "# i0 : nivel de ruido determinado por la desviación estandard de una distribucion normal centrada en 0.\n",
    "# Importante, i0 ~ sqrt{h}, el paso de integración.\n",
    "i0=50\n",
    "def i(t):\n",
    "    return i0*np.random.normal()"
   ]
  },
  {
   "cell_type": "code",
   "execution_count": null,
   "metadata": {
    "colab": {
     "base_uri": "https://localhost:8080/",
     "height": 315
    },
    "id": "4nu1QO2Jbhmj",
    "outputId": "6d558345-d869-43c6-f563-2fcc8b4753bd"
   },
   "outputs": [],
   "source": [
    "plt.xlabel('$t$ (ms)')\n",
    "plt.ylabel('$i$ $\\mathrm{(\\mu/cm^2)}$')\n",
    "plt.xlim(-1,100)\n",
    "t = np.linspace(-1,100,1000)\n",
    "plt.plot(t,np.vectorize(i)(t),c='r')\n",
    "plt.title('Corriente de membrana')"
   ]
  },
  {
   "cell_type": "code",
   "execution_count": null,
   "metadata": {
    "id": "sVtRpjFJbhmj"
   },
   "outputs": [],
   "source": [
    "tini = 0 # ms\n",
    "tend = 500 # ms\n",
    "h = 0.01 # ms\n",
    "k = int((tend-tini)/h) \n",
    "p = [c,gna,gk,gl,vna,vk,vl,i]\n",
    "t,x = integrador_ode(rk4,f,x0,tini,tend,k,p)"
   ]
  },
  {
   "cell_type": "code",
   "execution_count": null,
   "metadata": {
    "colab": {
     "base_uri": "https://localhost:8080/",
     "height": 315
    },
    "id": "h_QbPPoGbhmk",
    "outputId": "3d5b19f9-fb18-447d-ab3a-33cb6703bc49"
   },
   "outputs": [],
   "source": [
    "plt.xlabel('$t$ (ms)')\n",
    "plt.ylabel('$v$ (mV)')\n",
    "plt.xlim(tini,tend)\n",
    "plt.ylim(-20,120)\n",
    "plt.plot(t,0*t,linestyle='--',c='gray')\n",
    "plt.plot(t,x[0],c='b')\n",
    "plt.title('Potencial de membrana')"
   ]
  },
  {
   "cell_type": "code",
   "execution_count": null,
   "metadata": {
    "colab": {
     "base_uri": "https://localhost:8080/",
     "height": 315
    },
    "id": "wGMGNFeEbhmk",
    "outputId": "f2308628-aff0-4a40-9ef6-f73760194e2b"
   },
   "outputs": [],
   "source": [
    "plt.xlabel('$t$ (ms)')\n",
    "plt.xlim(tini,tend)\n",
    "plt.ylim(-0.1,1.1)\n",
    "plt.plot(t,0*t,label=\"\",linestyle='--',c='gray')\n",
    "plt.plot(t,0*t+1,label=\"\",linestyle='--',c='gray')\n",
    "plt.plot(t,x[1],label=\"n\",c='orange')\n",
    "plt.plot(t,x[2],label=\"m\",c='green')\n",
    "plt.plot(t,x[3],label=\"h\",c='cyan')\n",
    "plt.title('Variables de activación')\n",
    "plt.legend()"
   ]
  },
  {
   "cell_type": "code",
   "execution_count": null,
   "metadata": {},
   "outputs": [],
   "source": [
    "# i0 : nivel de ruido determinado por la desviación estandard de una distribucion normal centrada en 0.\n",
    "# Importante, i0 ~ sqrt{h}, el paso de integración.\n",
    "i0=100\n",
    "def i(t):\n",
    "    return i0*np.random.normal()"
   ]
  },
  {
   "cell_type": "code",
   "execution_count": null,
   "metadata": {},
   "outputs": [],
   "source": [
    "plt.xlabel('$t$ (ms)')\n",
    "plt.ylabel('$i$ $\\mathrm{(\\mu/cm^2)}$')\n",
    "plt.xlim(-1,100)\n",
    "t = np.linspace(-1,100,1000)\n",
    "plt.plot(t,np.vectorize(i)(t),c='r')\n",
    "plt.title('Corriente de membrana')"
   ]
  },
  {
   "cell_type": "code",
   "execution_count": null,
   "metadata": {},
   "outputs": [],
   "source": [
    "tini = 0 # ms\n",
    "tend = 500 # ms\n",
    "h = 0.01 # ms\n",
    "k = int((tend-tini)/h) \n",
    "p = [c,gna,gk,gl,vna,vk,vl,i]\n",
    "t,x = integrador_ode(rk4,f,x0,tini,tend,k,p)"
   ]
  },
  {
   "cell_type": "code",
   "execution_count": null,
   "metadata": {},
   "outputs": [],
   "source": [
    "plt.xlabel('$t$ (ms)')\n",
    "plt.ylabel('$v$ (mV)')\n",
    "plt.xlim(tini,tend)\n",
    "plt.ylim(-20,120)\n",
    "plt.plot(t,0*t,linestyle='--',c='gray')\n",
    "plt.plot(t,x[0],c='b')\n",
    "plt.title('Potencial de membrana')"
   ]
  },
  {
   "cell_type": "code",
   "execution_count": null,
   "metadata": {},
   "outputs": [],
   "source": [
    "plt.xlabel('$t$ (ms)')\n",
    "plt.xlim(tini,tend)\n",
    "plt.ylim(-0.1,1.1)\n",
    "plt.plot(t,0*t,label=\"\",linestyle='--',c='gray')\n",
    "plt.plot(t,0*t+1,label=\"\",linestyle='--',c='gray')\n",
    "plt.plot(t,x[1],label=\"n\",c='orange')\n",
    "plt.plot(t,x[2],label=\"m\",c='green')\n",
    "plt.plot(t,x[3],label=\"h\",c='cyan')\n",
    "plt.title('Variables de activación')\n",
    "plt.legend()"
   ]
  }
 ],
 "metadata": {
  "@webio": {
   "lastCommId": null,
   "lastKernelId": null
  },
  "colab": {
   "collapsed_sections": [
    "N84kNoECbhmh",
    "fPcGrlJ5bhmi",
    "fuKBhMTBbhmj",
    "yAu1ThKubhmk"
   ],
   "name": "hodgkin-huxley.ipynb",
   "provenance": []
  },
  "kernelspec": {
   "display_name": "Python 3 (ipykernel)",
   "language": "python",
   "name": "python3"
  },
  "language_info": {
   "codemirror_mode": {
    "name": "ipython",
    "version": 3
   },
   "file_extension": ".py",
   "mimetype": "text/x-python",
   "name": "python",
   "nbconvert_exporter": "python",
   "pygments_lexer": "ipython3",
   "version": "3.9.12"
  }
 },
 "nbformat": 4,
 "nbformat_minor": 1
}
