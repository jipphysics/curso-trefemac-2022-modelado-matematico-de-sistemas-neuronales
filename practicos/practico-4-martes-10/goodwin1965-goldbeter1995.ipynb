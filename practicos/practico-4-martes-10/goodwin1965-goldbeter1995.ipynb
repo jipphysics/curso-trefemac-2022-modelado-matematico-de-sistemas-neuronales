{
 "cells": [
  {
   "cell_type": "markdown",
   "metadata": {
    "id": "Y0uRRG0dbhmT"
   },
   "source": [
    "# Practico 4: \n",
    "\n",
    "## Nombres de los integrantes del grupo:\n",
    "\n",
    "* Paula Nieto: pnieto1@famaf.unc.edu.ar \n",
    "* Pablo Gleiser: pgleiser@itba.edu.ar\n",
    "* Juan Perotti: juan.perotti@unc.edu.ar"
   ]
  },
  {
   "cell_type": "markdown",
   "metadata": {
    "id": "Y0uRRG0dbhmT"
   },
   "source": [
    "## Parte 1: Modelo de dos variables de Goodwin (1965)\n",
    "\n",
    "Goodwin (1965) introduce un sistema de dos ecuaciones diferenciales ordinarias con el fin de describir el comportamiento de un sistema que posee un lazo de retroalimentación (feedback loop) negativo. En el modelo, (ec. 1 del paper)\n",
    "\n",
    "\\begin{eqnarray}\n",
    "\\frac{dX}{dt}&=&\\frac{a}{A+kY}-b\\\\\n",
    "\\frac{dY}{dt}&=&\\alpha X-\\beta\n",
    "\\end{eqnarray}\n",
    "\n",
    "donde $X$ representa la concentración de una dada especie de ARNm, $Y$ representa la concentración de la proteína que se deriva de la traducción del ARNm, $a$, $A$, $k$, $b$, $\\alpha$ y $\\beta$ son parámetros del modelo. Los parámetros se asumen no negativos. De manera similar, las variables $X$ e $Y$ sólo tienen sentido biológico para valores no negativos. Sin embargo, en este modelo se admiten valores negativos de $X$ e $Y$.\n",
    "\n",
    "**1)** Implemente el sistema de ODEs del modelo de Goodwin. Ayúdese leyendo el paper.\n",
    "\n",
    "**2)** Considere el caso determinado por\n",
    "\n",
    "* $a=72$\n",
    "* $A=36$\n",
    "* $k=1$\n",
    "* $b=2$\n",
    "* $\\alpha=1$\n",
    "* $\\beta=0$\n",
    "\n",
    "Usando el RK4 (o equivalente), integre la dinámica desde la condición inicial $(X_0,Y_0)=(7,-10)$ en el intervalo de tiempo $t\\in[0,500]$.\n",
    "\n",
    "**3)** Grafique $X(t)$ e $Y(t)$ vs $t$ en el rango calculado.\n",
    "\n",
    "**4)** Grafique la trayectoria $Y(t)$ vs $X(t)$ en el rango calculado.\n",
    "\n",
    "**5)** Observa oscilaciones?\n",
    "\n",
    "**6)** Ahora repita el calculo pero integrando en el intervalo $t\\in[0,5000]$.\n",
    "\n",
    "**7)** Grafique nuevamente lo pedido en los incisos **3)** y **4)**.\n",
    "\n",
    "**8)** Rediscuta el inciso **5)**. Que diferencia observa al realizar este segundo experimento?\n",
    "\n",
    "**9)** Que técnicas/teoría hace falta usar para determinar si el sistema posee o no un ciclo límite, i.e. oscilaciones sostenidas (o no-amortiguadas)?\n",
    "\n",
    "## Parte 2: Modelo más realista de Goldbeter (1995)\n",
    "\n",
    "Considere el modelo introducido por Goldbeter (1995):\n",
    "\n",
    "\\begin{eqnarray}\n",
    "\\frac{dM}{dt} &=& v_s\\frac{K_I^n}{K_I^n+P_N^n}-v_m\\frac{M}{K_m+M} \\\\\n",
    "\\frac{dP_0}{dt} &=& K_sM-V_1\\frac{P_0}{K_1+P_0}-V_2\\frac{P_1}{K_2+P_1} \\\\\n",
    "\\frac{dP_1}{dt} &=& V_1\\frac{P_0}{K_1+P_0}-V_2\\frac{P_1}{K_2+P_1}-V_3\\frac{P_1}{K_3+P_1}+V_4\\frac{P_2}{K_4+P_2} \\\\\n",
    "\\frac{dP_2}{dt} &=& V_3\\frac{P_1}{K_3+P_1}-V_4\\frac{P_2}{K_4+P_2}-k_1P_2+k_2P_N-v_d\\frac{P_2}{K_d+P_2} \\\\\n",
    "\\frac{dP_N}{dt} &=& k_1P_2-k_2P_N\n",
    "\\end{eqnarray}\n",
    "\n",
    "para \n",
    "\n",
    "* $n \\in \\{1,2,4\\}$\n",
    "* $v_s = 0.76 \\mu M/h$\n",
    "* $v_m = 0.65 \\mu M/h$\n",
    "* $K_m = 0.5  \\mu M $\n",
    "* $k_s = 0.38 1/h$\n",
    "* $v_d = 0.94 \\mu M/h$\n",
    "* $k_1 = 1.9  1/h$\n",
    "* $k_2 = 1.3  1/h$\n",
    "* $K_I = 1.0  \\mu M$\n",
    "* $K_d = 0.2  \\mu M$\n",
    "* $K_1 = 2    \\mu M$\n",
    "* $K_2 = 2    \\mu M$\n",
    "* $K_3 = 2    \\mu M$\n",
    "* $K_4 = 2    \\mu M$\n",
    "* $V_1 = 3.2  \\mu M/h$\n",
    "* $V_2 = 3.2  \\mu M/h$\n",
    "* $V_3 = 5    \\mu M/h$\n",
    "* $V_4 = 2.5  \\mu M/h$\n",
    "\n",
    "donde $n$ determina el grado de no linearidad del sistema.\n",
    " \n",
    "\n",
    "**1)** Implemente el sistema de ODEs del modelo de Goldbeter. Ayúdese leyendo el paper.\n",
    "\n",
    "**2)** Reproduzca la Figura 2 del paper. Para ello:\n",
    "\n",
    "1. Integre el sistema de ODEs desde la condición inicial dada por $M_0(t=0) = 0.1$, $P_0(t=0) = 0.25$, $P_1(t=0) = 0.25$, $P_2(t=0) = 0.25$ y $P_N(t=0) = 0.25$, y el parámetro que controla la no linearidad del sistema fijado en $n=4$, en el intervalo $t\\in [0,72]hs$.\n",
    "\n",
    "2. Con las trayectorias calculadas en el anterior inciso, grafique $M(t)$, $P_0(t)$, $P_1(t)$, $P_2(t)$ y $P_N(t)$ vs $t$.\n",
    "\n",
    "3. No olvide agregar un título, una leyenda, y etiquetas a los ejes y las curvas del gráfico.\n",
    "\n",
    "**3)** Reproduzca la Figura 3 del paper. Para ello, grafique $M(t)$ vs $P_t(t) = P_0(t) + P_1(t) + P_2(t) + P_N(t)$ recalculando las soluciones del inciso **2)** para $t\\in [0,200]hs.\n",
    "\n",
    "**4)** Repita lo hecho en los incisos **2)** y **3)** para $n=1$, y $t\\in [0,96]hs$ y $t\\in [0,200]hs$ respectivamente.\n",
    "\n",
    "**5)** Que diferencias observa? Discuta el rol de la no linearidad. Cómo afecta ésta el comportamiento del sistema?"
   ]
  },
  {
   "cell_type": "markdown",
   "metadata": {},
   "source": [
    "## Refs. \n",
    "\n",
    "[1] BC Goodwin, Oscillatory Behavior in Enzymatic Control Processes, Advances in enzyme regulation 3 425-437 (1965)\n",
    "\n",
    "[2] A Goldbeter, A model for circadian oscillations in the Drosophila period protein (PER), Proceedings of the Royal Society of London. Series B: Biological Sciences 261.1362 319-324 (1995)\n",
    "\n",
    "[3] JS Griffith, Mathematics of cellular control processes I. Negative feedback to one gene, Journal of theoretical biology 20.2 202-208 (1968)"
   ]
  },
  {
   "cell_type": "code",
   "execution_count": null,
   "metadata": {
    "id": "moOgIQd529Ku"
   },
   "outputs": [],
   "source": [
    "import numpy as np"
   ]
  },
  {
   "cell_type": "code",
   "execution_count": null,
   "metadata": {
    "id": "E4BmG7O2bhmX"
   },
   "outputs": [],
   "source": [
    "LATEX = True\n",
    "import matplotlib.pyplot as plt\n",
    "if LATEX:\n",
    "    import matplotlib\n",
    "    if 'google.colab' in str(get_ipython()):\n",
    "        print('Running on CoLab')\n",
    "        matplotlib.rc('text', usetex=True)\n",
    "        matplotlib.rcParams['text.latex.preamble'] = [r'\\usepackage{amsmath}']        \n",
    "        !apt install texlive-fonts-recommended texlive-fonts-extra cm-super dvipng    \n",
    "    else:\n",
    "        print('Not running on CoLab') \n",
    "        matplotlib.rc('text', usetex=False)\n",
    "        matplotlib.rcParams['text.latex.preamble'] = [r'\\usepackage{amsmath}']        \n",
    "# %matplotlib inline"
   ]
  },
  {
   "cell_type": "markdown",
   "metadata": {
    "id": "CMt1vmedmvI2"
   },
   "source": [
    "## Integrador ODE"
   ]
  },
  {
   "cell_type": "code",
   "execution_count": null,
   "metadata": {
    "id": "KHLrtluvbhmY"
   },
   "outputs": [],
   "source": [
    "def rk4(f,x,t,h,p):\n",
    "    \"\"\"\n",
    "    Calcula un paso de integración del método de Runge Kutta orden 4.\n",
    "    \n",
    "    Argumentos de entrada:\n",
    "    \n",
    "        f : R^n -> R^n\n",
    "        x = x(t) : R^n\n",
    "        t = tiempo : R\n",
    "        h = paso de tiempo : R\n",
    "        p = parametros : R^q        \n",
    "        \n",
    "    Retorna aproximacion numérica de\n",
    "    \n",
    "        x(t+h) : R^n\n",
    "\n",
    "    # Ejemplos:\n",
    "    \"\"\"    \n",
    "    k1 = f(x,t,p)\n",
    "    k2 = f(x+0.5*h*k1,t+0.5*h,p)\n",
    "    k3 = f(x+0.5*h*k2,t+0.5*h,p)\n",
    "    k4 = f(x+h*k3,t+h,p)\n",
    "    \n",
    "    return x+h*(k1+2.0*k2+2.0*k3+k4)/6.0"
   ]
  },
  {
   "cell_type": "code",
   "execution_count": null,
   "metadata": {
    "id": "_p4330nwbhmZ"
   },
   "outputs": [],
   "source": [
    "def integrador_ode(m,f,x0,a,b,k,p):\n",
    "    \"\"\"\n",
    "    Integra numéricamente la ODE\n",
    "    \n",
    "        dx/dt = f(x,t)\n",
    "        \n",
    "    sobre el intervalo t:[a,b] usando k pasos de integración y el método m, bajo condicion inicial x(a)=x0.\n",
    "    No es necesario que a<b.\n",
    "    \n",
    "    Argumentos de entrada:\n",
    "    \n",
    "        m = metodo de integracion (ej. euler, rk2, etc.)\n",
    "        f : R^n -> R^n\n",
    "        x0 = condicion inicial : R^n\n",
    "        a = tiempo inicial : R\n",
    "        b = tiempo final : R\n",
    "        k = num. pasos de integracion : N\n",
    "        p = parametros : R^q\n",
    "    \n",
    "    Retorna:\n",
    "    \n",
    "        t : R^{k+1} , t_j = a+j*h para j=0,1,...,k\n",
    "        x : R^{n,k+1} , x_ij = x_i(t_j) para i=0,1,...,n-1 y j=0,1,...,k\n",
    "        \n",
    "    donde a+k*dt = b.\n",
    "    \"\"\"  \n",
    "    assert k>0\n",
    "    n = len(x0)\n",
    "    h = (b-a)/k\n",
    "    x = np.zeros((n,k+1)) # Produce un array con forma y tipo especificada con los parametros, \n",
    "                          # lleno de ceros. la forma puede ser espcificada con un entero o tupla (n,k+1)    \n",
    "    t = np.zeros(k+1)\n",
    "    x[:,0] = x0           # actualiza la posicion inicial (columna de indice 0) de las variables con los valores \n",
    "                          # de las condiciones iniciales\n",
    "    t[0] = a              # actualiza la posicion cero con el valor del tiempo inicial\n",
    "    \n",
    "    for j in range(k):    #Aca se produce la iteración en j \n",
    "        \n",
    "        t[j+1] = t[j] + h   # iteracion tiempo \n",
    "        x[:,j+1] = m(f,x[:,j],t[j],h,p) # iteracion de x \n",
    "        \n",
    "    return t,x"
   ]
  },
  {
   "cell_type": "markdown",
   "metadata": {},
   "source": [
    "\n",
    "## Parte 1: Modelo de dos variables de Goodwin (1965)"
   ]
  },
  {
   "cell_type": "markdown",
   "metadata": {
    "id": "z38jgrONmyxO"
   },
   "source": [
    "**Rta. 1)**"
   ]
  },
  {
   "cell_type": "code",
   "execution_count": null,
   "metadata": {},
   "outputs": [],
   "source": []
  },
  {
   "cell_type": "markdown",
   "metadata": {},
   "source": [
    "## Parte 2: Modelo de Golbeter (1995)"
   ]
  },
  {
   "cell_type": "markdown",
   "metadata": {
    "id": "z38jgrONmyxO"
   },
   "source": [
    "**Rta. 1)**"
   ]
  },
  {
   "cell_type": "code",
   "execution_count": null,
   "metadata": {},
   "outputs": [],
   "source": []
  }
 ],
 "metadata": {
  "@webio": {
   "lastCommId": null,
   "lastKernelId": null
  },
  "colab": {
   "collapsed_sections": [
    "N84kNoECbhmh",
    "fPcGrlJ5bhmi",
    "fuKBhMTBbhmj",
    "yAu1ThKubhmk"
   ],
   "name": "goodwin.ipynb",
   "provenance": []
  },
  "kernelspec": {
   "display_name": "Python 3 (ipykernel)",
   "language": "python",
   "name": "python3"
  },
  "language_info": {
   "codemirror_mode": {
    "name": "ipython",
    "version": 3
   },
   "file_extension": ".py",
   "mimetype": "text/x-python",
   "name": "python",
   "nbconvert_exporter": "python",
   "pygments_lexer": "ipython3",
   "version": "3.9.12"
  }
 },
 "nbformat": 4,
 "nbformat_minor": 1
}
